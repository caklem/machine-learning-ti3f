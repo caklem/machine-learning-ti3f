{
 "cells": [
  {
   "cell_type": "markdown",
   "metadata": {},
   "source": [
    "# Tugas"
   ]
  },
  {
   "cell_type": "markdown",
   "metadata": {},
   "source": [
    "- Lakukan klasifikasi pada data MNIST dengan menggunakan model ANN\n",
    "- Anda diperbolehkan melakukan eksplorasi terhadap,\n",
    "    - Metode pra pengolahan\n",
    "    - Pemilihan fitur\n",
    "    - Arsitektur ANN\n",
    "    - Fungsi Aktiviasi\n",
    "- ANN diimplementasikan dengan menggunakan tensorflow.\n",
    "- **DIKERJAKAN SECARA BERKELOMPOK**\n",
    "- **JELASKAN HASIL YANG ANDA DAPATKAN,**\n",
    "    - **AKURASI**\n",
    "    - **CONFUSION MATRIX**\n",
    "    - **KONFIGURASI MODEL --> MULAI DARI PRA PENGOLAHAN** **SAMPAI ARSITEKTUR ANN**"
   ]
  },
  {
   "cell_type": "markdown",
   "metadata": {},
   "source": [
    "**Langkah 1 - Import Library**"
   ]
  },
  {
   "cell_type": "code",
   "execution_count": 1,
   "metadata": {},
   "outputs": [],
   "source": [
    "import tensorflow as tf\n",
    "from tensorflow import keras\n",
    "from tensorflow.keras import layers"
   ]
  },
  {
   "cell_type": "markdown",
   "metadata": {},
   "source": [
    "**Langkah 2 - Pra-pengolahan data MNIST**\n",
    "\n",
    "Jika error, run lagi"
   ]
  },
  {
   "cell_type": "code",
   "execution_count": 3,
   "metadata": {},
   "outputs": [
    {
     "name": "stdout",
     "output_type": "stream",
     "text": [
      "Downloading data from https://storage.googleapis.com/tensorflow/tf-keras-datasets/mnist.npz\n",
      "11490434/11490434 [==============================] - 7s 1us/step\n"
     ]
    }
   ],
   "source": [
    "# Pra-pengolahan data\n",
    "(x_train, y_train), (x_test, y_test) = keras.datasets.mnist.load_data() # load data MNIST dan split data\n",
    "\n",
    "# ubah bentuk fitur menjadi vektor dan dinormalisasi\n",
    "x_train = x_train.reshape(-1, 784).astype(\"float32\") / 255.0\n",
    "x_test = x_test.reshape(-1, 784).astype(\"float32\") / 255.0"
   ]
  },
  {
   "cell_type": "markdown",
   "metadata": {},
   "source": [
    "**Langkah 3 - Buat Arsitektur ANN**"
   ]
  },
  {
   "cell_type": "code",
   "execution_count": 4,
   "metadata": {},
   "outputs": [],
   "source": [
    "# Arsitektur ANN\n",
    "# Terdiri dari 3 lapisan Dense dengan funsi aktivasi ReLU\n",
    "ann = keras.Sequential(\n",
    "    [\n",
    "        layers.Dense(256, activation=\"relu\"),\n",
    "        layers.Dense(128, activation=\"relu\"),\n",
    "        layers.Dense(10),\n",
    "    ]\n",
    ")"
   ]
  },
  {
   "cell_type": "markdown",
   "metadata": {},
   "source": [
    "**Langkah 4 - Buat Fugsi Aktivasi**"
   ]
  },
  {
   "cell_type": "code",
   "execution_count": 5,
   "metadata": {},
   "outputs": [],
   "source": [
    "# Fungsi aktivasi\n",
    "ann.compile(\n",
    "    optimizer=keras.optimizers.Adam(0.001),\n",
    "    loss=keras.losses.SparseCategoricalCrossentropy(from_logits=True),\n",
    "    metrics=[\"accuracy\"],\n",
    ")"
   ]
  },
  {
   "cell_type": "markdown",
   "metadata": {},
   "source": [
    "**Langkah 5 - Latih Model ANN dan Lakukan Evaluasi Model**"
   ]
  },
  {
   "cell_type": "code",
   "execution_count": 6,
   "metadata": {},
   "outputs": [
    {
     "name": "stdout",
     "output_type": "stream",
     "text": [
      "Epoch 1/5\n",
      "1875/1875 - 6s - loss: 0.2054 - accuracy: 0.9392 - 6s/epoch - 3ms/step\n",
      "Epoch 2/5\n",
      "1875/1875 - 6s - loss: 0.0857 - accuracy: 0.9728 - 6s/epoch - 3ms/step\n",
      "Epoch 3/5\n",
      "1875/1875 - 6s - loss: 0.0578 - accuracy: 0.9815 - 6s/epoch - 3ms/step\n",
      "Epoch 4/5\n",
      "1875/1875 - 5s - loss: 0.0425 - accuracy: 0.9862 - 5s/epoch - 3ms/step\n",
      "Epoch 5/5\n",
      "1875/1875 - 6s - loss: 0.0357 - accuracy: 0.9884 - 6s/epoch - 3ms/step\n",
      "313/313 - 1s - loss: 0.0895 - accuracy: 0.9759 - 811ms/epoch - 3ms/step\n",
      "Test accuracy: 0.9758999943733215\n"
     ]
    }
   ],
   "source": [
    "# Pelatihan model\n",
    "# Model dilatih menggunakan data latih dengan batch size 32 dan epoch sebanyak 5 kali.\n",
    "ann.fit(x_train, y_train, batch_size=32, epochs=5, verbose=2)\n",
    "\n",
    "# Evaluasi model\n",
    "# Model dievaluasi menggunakan data uji dan menghitung akurasi.\n",
    "test_loss, test_acc = ann.evaluate(x_test, y_test, verbose=2)\n",
    "print(\"Test accuracy:\", test_acc)"
   ]
  },
  {
   "cell_type": "markdown",
   "metadata": {},
   "source": [
    "**Langkah 6 - Tampilkan Confusion Matrix**"
   ]
  },
  {
   "cell_type": "code",
   "execution_count": 7,
   "metadata": {},
   "outputs": [
    {
     "name": "stdout",
     "output_type": "stream",
     "text": [
      "313/313 [==============================] - 1s 2ms/step\n",
      "Confusion matrix:\n",
      " tf.Tensor(\n",
      "[[ 974    0    0    2    0    0    1    1    2    0]\n",
      " [   0 1126    3    1    0    0    3    0    2    0]\n",
      " [   5    1 1014    5    2    0    1    4    0    0]\n",
      " [   0    0    3  997    0    2    0    4    2    2]\n",
      " [   0    1    1    0  967    0    5    1    0    7]\n",
      " [   3    0    0   23    1  857    2    1    1    4]\n",
      " [  13    2    3    1    5    3  931    0    0    0]\n",
      " [   1   11   14    2    1    0    0  992    2    5]\n",
      " [   5    1    8   12    7    1    2    5  931    2]\n",
      " [   4    5    1    4   18    1    0    5    1  970]], shape=(10, 10), dtype=int32)\n"
     ]
    }
   ],
   "source": [
    "# Confusion matrix\n",
    "# Confusion matrix dihitung menggunakan data uji dan prediksi model.\n",
    "y_pred = ann.predict(x_test)\n",
    "confusion_matrix = tf.math.confusion_matrix(y_test, tf.argmax(y_pred, axis=1))\n",
    "print(\"Confusion matrix:\\n\", confusion_matrix)"
   ]
  }
 ],
 "metadata": {
  "kernelspec": {
   "display_name": "base",
   "language": "python",
   "name": "python3"
  },
  "language_info": {
   "codemirror_mode": {
    "name": "ipython",
    "version": 3
   },
   "file_extension": ".py",
   "mimetype": "text/x-python",
   "name": "python",
   "nbconvert_exporter": "python",
   "pygments_lexer": "ipython3",
   "version": "3.11.4"
  },
  "orig_nbformat": 4
 },
 "nbformat": 4,
 "nbformat_minor": 2
}
