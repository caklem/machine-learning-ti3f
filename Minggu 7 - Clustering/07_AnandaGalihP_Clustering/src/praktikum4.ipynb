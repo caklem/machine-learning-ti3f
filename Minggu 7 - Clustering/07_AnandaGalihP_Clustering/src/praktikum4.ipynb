{
 "cells": [
  {
   "cell_type": "code",
   "execution_count": 1,
   "metadata": {},
   "outputs": [
    {
     "name": "stdout",
     "output_type": "stream",
     "text": [
      "Requirement already satisfied: minisom in d:\\anaconda\\lib\\site-packages (2.3.1)\n",
      "Note: you may need to restart the kernel to use updated packages.\n"
     ]
    }
   ],
   "source": [
    "pip install minisom"
   ]
  },
  {
   "cell_type": "code",
   "execution_count": 1,
   "metadata": {},
   "outputs": [
    {
     "name": "stderr",
     "output_type": "stream",
     "text": [
      "d:\\anaconda\\Lib\\site-packages\\paramiko\\transport.py:219: CryptographyDeprecationWarning: Blowfish has been deprecated\n",
      "  \"class\": algorithms.Blowfish,\n"
     ]
    }
   ],
   "source": [
    "import numpy as np\n",
    "# Mengimpor pustaka numpy dengan alias np.\n",
    "\n",
    "import matplotlib.pyplot as plt\n",
    "# Mengimpor modul matplotlib.pyplot dengan alias plt.\n",
    "\n",
    "from skimage import io\n",
    "# Mengimpor modul io dari pustaka skimage.\n"
   ]
  },
  {
   "cell_type": "code",
   "execution_count": 2,
   "metadata": {},
   "outputs": [],
   "source": [
    "# Fungsi untuk menginisialisasi bobot dalam Self-Organizing Map (SOM).\n",
    "def initialize_weights(input_shape, output_shape):\n",
    "    return np.random.rand(output_shape[0], output_shape[1], input_shape[2])\n"
   ]
  },
  {
   "cell_type": "code",
   "execution_count": 3,
   "metadata": {},
   "outputs": [],
   "source": [
    "# Fungsi untuk menghitung jarak (distance) antara vektor input dan bobot dalam Self-Organizing Map (SOM).\n",
    "def calculate_distance(input_vector, weights):\n",
    "    return np.linalg.norm(input_vector - weights, axis=2)\n"
   ]
  },
  {
   "cell_type": "code",
   "execution_count": 4,
   "metadata": {},
   "outputs": [],
   "source": [
    "# Fungsi untuk menemukan indeks unit pemenang (unit dengan bobot terdekat)\n",
    "def find_winner_unit_in_image(input_vector, weights):\n",
    "    distances = calculate_distance(input_vector, weights)\n",
    "    return np.unravel_index(np.argmin(distances), distances.shape)"
   ]
  },
  {
   "cell_type": "code",
   "execution_count": 5,
   "metadata": {},
   "outputs": [],
   "source": [
    "# Fungsi untuk memperbarui bobot dalam Self-Organizing Map (SOM) berdasarkan vektor input, pemenang, learning rate, dan neighborhood radius.\n",
    "def update_weights(input_vector, weights, winner, learning_rate, neighborhood_radius):\n",
    "    # Menghitung jarak antara setiap unit dalam SOM dan unit pemenang.\n",
    "    distances = np.linalg.norm(np.indices(weights.shape[:2]).T - np.array(winner).reshape(1, -1), axis=2)\n",
    "\n",
    "    # Menghitung pengaruh (influence) menggunakan fungsi eksponensial.\n",
    "    influence = np.exp(-distances / (2 * neighborhood_radius**2))\n",
    "\n",
    "    # Memperbarui bobot dengan mempertimbangkan pengaruh, learning rate, dan selisih antara vektor input dan bobot.\n",
    "    weights += learning_rate * influence[:, :, np.newaxis] * (input_vector - weights)\n"
   ]
  },
  {
   "cell_type": "code",
   "execution_count": 6,
   "metadata": {},
   "outputs": [],
   "source": [
    "# Fungsi untuk melatih Self-Organizing Map (SOM) dengan gambar sebagai data input.\n",
    "def train_som(image, num_epochs, initial_learning_rate, initial_neighborhood_radius):\n",
    "    input_shape = image.shape\n",
    "    som_shape = (10, 10, input_shape[2])  # Ukuran SOM sesuai dengan jumlah saluran warna\n",
    "    weights = initialize_weights(input_shape, som_shape)\n",
    "\n",
    "    for epoch in range(num_epochs):\n",
    "        # Update parameter pembelajaran dan radius tetangga\n",
    "        learning_rate = initial_learning_rate * np.exp(-epoch / num_epochs)\n",
    "        neighborhood_radius = initial_neighborhood_radius * np.exp(-epoch / num_epochs)\n",
    "\n",
    "        # Pemrosesan SOM\n",
    "        for i in range(input_shape[0]):\n",
    "            for j in range(input_shape[1]):\n",
    "                input_vector = image[i, j, :]\n",
    "                winner = find_winner_unit_in_image(input_vector, weights)\n",
    "                update_weights(input_vector, weights, winner, learning_rate, neighborhood_radius)\n",
    "\n",
    "    return weights\n"
   ]
  },
  {
   "cell_type": "code",
   "execution_count": 9,
   "metadata": {},
   "outputs": [],
   "source": [
    "# Load citra Lenna (Anda bisa mengganti ini dengan citra lain jika diperlukan)\n",
    "Lenna_path = \"../data/johan.jpeg\"\n",
    "Lenna = io.imread(Lenna_path) / 255.0  # Normalisasi intensitas piksel menjadi rentang [0, 1]"
   ]
  },
  {
   "cell_type": "code",
   "execution_count": 10,
   "metadata": {},
   "outputs": [
    {
     "ename": "KeyboardInterrupt",
     "evalue": "",
     "output_type": "error",
     "traceback": [
      "\u001b[1;31m---------------------------------------------------------------------------\u001b[0m",
      "\u001b[1;31mKeyboardInterrupt\u001b[0m                         Traceback (most recent call last)",
      "\u001b[1;32md:\\01 - College\\05 - Semester 5\\07-ML\\machine-learning-ti3f\\Minggu 7 - Clustering\\07_AnandaGalihP_Clustering\\src\\praktikum4.ipynb Cell 9\u001b[0m line \u001b[0;36m7\n\u001b[0;32m      <a href='vscode-notebook-cell:/d%3A/01%20-%20College/05%20-%20Semester%205/07-ML/machine-learning-ti3f/Minggu%207%20-%20Clustering/07_AnandaGalihP_Clustering/src/praktikum4.ipynb#X11sZmlsZQ%3D%3D?line=3'>4</a>\u001b[0m initial_neighborhood_radius \u001b[39m=\u001b[39m \u001b[39m5\u001b[39m\n\u001b[0;32m      <a href='vscode-notebook-cell:/d%3A/01%20-%20College/05%20-%20Semester%205/07-ML/machine-learning-ti3f/Minggu%207%20-%20Clustering/07_AnandaGalihP_Clustering/src/praktikum4.ipynb#X11sZmlsZQ%3D%3D?line=5'>6</a>\u001b[0m \u001b[39m# Melakukan pelatihan SOM dengan memanggil fungsi train_som.\u001b[39;00m\n\u001b[1;32m----> <a href='vscode-notebook-cell:/d%3A/01%20-%20College/05%20-%20Semester%205/07-ML/machine-learning-ti3f/Minggu%207%20-%20Clustering/07_AnandaGalihP_Clustering/src/praktikum4.ipynb#X11sZmlsZQ%3D%3D?line=6'>7</a>\u001b[0m trained_weights \u001b[39m=\u001b[39m train_som(Lenna, num_epochs, initial_learning_rate, initial_neighborhood_radius)\n",
      "\u001b[1;32md:\\01 - College\\05 - Semester 5\\07-ML\\machine-learning-ti3f\\Minggu 7 - Clustering\\07_AnandaGalihP_Clustering\\src\\praktikum4.ipynb Cell 9\u001b[0m line \u001b[0;36m1\n\u001b[0;32m     <a href='vscode-notebook-cell:/d%3A/01%20-%20College/05%20-%20Semester%205/07-ML/machine-learning-ti3f/Minggu%207%20-%20Clustering/07_AnandaGalihP_Clustering/src/praktikum4.ipynb#X11sZmlsZQ%3D%3D?line=14'>15</a>\u001b[0m             input_vector \u001b[39m=\u001b[39m image[i, j, :]\n\u001b[0;32m     <a href='vscode-notebook-cell:/d%3A/01%20-%20College/05%20-%20Semester%205/07-ML/machine-learning-ti3f/Minggu%207%20-%20Clustering/07_AnandaGalihP_Clustering/src/praktikum4.ipynb#X11sZmlsZQ%3D%3D?line=15'>16</a>\u001b[0m             winner \u001b[39m=\u001b[39m find_winner_unit_in_image(input_vector, weights)\n\u001b[1;32m---> <a href='vscode-notebook-cell:/d%3A/01%20-%20College/05%20-%20Semester%205/07-ML/machine-learning-ti3f/Minggu%207%20-%20Clustering/07_AnandaGalihP_Clustering/src/praktikum4.ipynb#X11sZmlsZQ%3D%3D?line=16'>17</a>\u001b[0m             update_weights(input_vector, weights, winner, learning_rate, neighborhood_radius)\n\u001b[0;32m     <a href='vscode-notebook-cell:/d%3A/01%20-%20College/05%20-%20Semester%205/07-ML/machine-learning-ti3f/Minggu%207%20-%20Clustering/07_AnandaGalihP_Clustering/src/praktikum4.ipynb#X11sZmlsZQ%3D%3D?line=18'>19</a>\u001b[0m \u001b[39mreturn\u001b[39;00m weights\n",
      "\u001b[1;32md:\\01 - College\\05 - Semester 5\\07-ML\\machine-learning-ti3f\\Minggu 7 - Clustering\\07_AnandaGalihP_Clustering\\src\\praktikum4.ipynb Cell 9\u001b[0m line \u001b[0;36m4\n\u001b[0;32m      <a href='vscode-notebook-cell:/d%3A/01%20-%20College/05%20-%20Semester%205/07-ML/machine-learning-ti3f/Minggu%207%20-%20Clustering/07_AnandaGalihP_Clustering/src/praktikum4.ipynb#X11sZmlsZQ%3D%3D?line=1'>2</a>\u001b[0m \u001b[39mdef\u001b[39;00m \u001b[39mupdate_weights\u001b[39m(input_vector, weights, winner, learning_rate, neighborhood_radius):\n\u001b[0;32m      <a href='vscode-notebook-cell:/d%3A/01%20-%20College/05%20-%20Semester%205/07-ML/machine-learning-ti3f/Minggu%207%20-%20Clustering/07_AnandaGalihP_Clustering/src/praktikum4.ipynb#X11sZmlsZQ%3D%3D?line=2'>3</a>\u001b[0m     \u001b[39m# Menghitung jarak antara setiap unit dalam SOM dan unit pemenang.\u001b[39;00m\n\u001b[1;32m----> <a href='vscode-notebook-cell:/d%3A/01%20-%20College/05%20-%20Semester%205/07-ML/machine-learning-ti3f/Minggu%207%20-%20Clustering/07_AnandaGalihP_Clustering/src/praktikum4.ipynb#X11sZmlsZQ%3D%3D?line=3'>4</a>\u001b[0m     distances \u001b[39m=\u001b[39m np\u001b[39m.\u001b[39mlinalg\u001b[39m.\u001b[39mnorm(np\u001b[39m.\u001b[39;49mindices(weights\u001b[39m.\u001b[39;49mshape[:\u001b[39m2\u001b[39;49m])\u001b[39m.\u001b[39mT \u001b[39m-\u001b[39m np\u001b[39m.\u001b[39marray(winner)\u001b[39m.\u001b[39mreshape(\u001b[39m1\u001b[39m, \u001b[39m-\u001b[39m\u001b[39m1\u001b[39m), axis\u001b[39m=\u001b[39m\u001b[39m2\u001b[39m)\n\u001b[0;32m      <a href='vscode-notebook-cell:/d%3A/01%20-%20College/05%20-%20Semester%205/07-ML/machine-learning-ti3f/Minggu%207%20-%20Clustering/07_AnandaGalihP_Clustering/src/praktikum4.ipynb#X11sZmlsZQ%3D%3D?line=5'>6</a>\u001b[0m     \u001b[39m# Menghitung pengaruh (influence) menggunakan fungsi eksponensial.\u001b[39;00m\n\u001b[0;32m      <a href='vscode-notebook-cell:/d%3A/01%20-%20College/05%20-%20Semester%205/07-ML/machine-learning-ti3f/Minggu%207%20-%20Clustering/07_AnandaGalihP_Clustering/src/praktikum4.ipynb#X11sZmlsZQ%3D%3D?line=6'>7</a>\u001b[0m     influence \u001b[39m=\u001b[39m np\u001b[39m.\u001b[39mexp(\u001b[39m-\u001b[39mdistances \u001b[39m/\u001b[39m (\u001b[39m2\u001b[39m \u001b[39m*\u001b[39m neighborhood_radius\u001b[39m*\u001b[39m\u001b[39m*\u001b[39m\u001b[39m2\u001b[39m))\n",
      "File \u001b[1;32md:\\anaconda\\Lib\\site-packages\\numpy\\core\\numeric.py:1784\u001b[0m, in \u001b[0;36mindices\u001b[1;34m(dimensions, dtype, sparse)\u001b[0m\n\u001b[0;32m   1782\u001b[0m     res \u001b[39m=\u001b[39m empty((N,)\u001b[39m+\u001b[39mdimensions, dtype\u001b[39m=\u001b[39mdtype)\n\u001b[0;32m   1783\u001b[0m \u001b[39mfor\u001b[39;00m i, dim \u001b[39min\u001b[39;00m \u001b[39menumerate\u001b[39m(dimensions):\n\u001b[1;32m-> 1784\u001b[0m     idx \u001b[39m=\u001b[39m arange(dim, dtype\u001b[39m=\u001b[39mdtype)\u001b[39m.\u001b[39mreshape(\n\u001b[0;32m   1785\u001b[0m         shape[:i] \u001b[39m+\u001b[39m (dim,) \u001b[39m+\u001b[39m shape[i\u001b[39m+\u001b[39m\u001b[39m1\u001b[39m:]\n\u001b[0;32m   1786\u001b[0m     )\n\u001b[0;32m   1787\u001b[0m     \u001b[39mif\u001b[39;00m sparse:\n\u001b[0;32m   1788\u001b[0m         res \u001b[39m=\u001b[39m res \u001b[39m+\u001b[39m (idx,)\n",
      "\u001b[1;31mKeyboardInterrupt\u001b[0m: "
     ]
    }
   ],
   "source": [
    "# Parameter pelatihan SOM\n",
    "num_epochs = 100\n",
    "initial_learning_rate = 0.1\n",
    "initial_neighborhood_radius = 5\n",
    "\n",
    "# Melakukan pelatihan SOM dengan memanggil fungsi train_som.\n",
    "trained_weights = train_som(Lenna, num_epochs, initial_learning_rate, initial_neighborhood_radius)\n"
   ]
  }
 ],
 "metadata": {
  "kernelspec": {
   "display_name": "base",
   "language": "python",
   "name": "python3"
  },
  "language_info": {
   "codemirror_mode": {
    "name": "ipython",
    "version": 3
   },
   "file_extension": ".py",
   "mimetype": "text/x-python",
   "name": "python",
   "nbconvert_exporter": "python",
   "pygments_lexer": "ipython3",
   "version": "3.11.4"
  }
 },
 "nbformat": 4,
 "nbformat_minor": 2
}
