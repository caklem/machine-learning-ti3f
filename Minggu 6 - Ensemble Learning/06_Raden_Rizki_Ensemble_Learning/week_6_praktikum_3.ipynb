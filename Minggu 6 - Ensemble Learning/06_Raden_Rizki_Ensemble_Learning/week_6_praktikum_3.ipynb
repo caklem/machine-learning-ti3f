{
 "cells": [
  {
   "cell_type": "markdown",
   "metadata": {},
   "source": [
    "<h4>Praktikum 3 Stacking</h4>\n",
    "\n",
    "Lengkapi bagian berikut dengan data sesuai tugas, dan tentukan perbedaan nilai akurasi antara Random Forest, Adaboost, dan Stacking"
   ]
  },
  {
   "cell_type": "code",
   "execution_count": 1,
   "metadata": {},
   "outputs": [],
   "source": [
    "from sklearn.ensemble import RandomForestClassifier, StackingClassifier # import RandomForest, implementasi dari algoritma \"Random Forest\" yang digunakan untuk tugas klasifikasi. Import StackingClassifier, menggabungkan hasil dari beberapa model klasifikasi berbeda menjadi satu model yang lebih kuat\n",
    "from sklearn.linear_model import LogisticRegression # algoritma klasifikasi yang digunakan dalam machine learning untuk memprediksi probabilitas suatu sampel masuk ke dalam satu dari dua kelas yang mungkin\n",
    "from sklearn.model_selection import train_test_split # Function yang berguna dalam pembagian dataset menjadi subset pelatihan dan pengujian\n",
    "from sklearn.neighbors import KNeighborsClassifier # algoritma yang berfungsi dengan cara menentukan kelas suatu data uji berdasarkan mayoritas kelas dari k data pelatihan terdekat ke data uji tersebut\n",
    "from sklearn.tree import DecisionTreeClassifier # import DT, implementasi dari algoritma pohon keputusan (decision tree) yang digunakan untuk tugas klasifikasi\n",
    "import pandas as pd # Library untuk komputasi numerik, termasuk array multidimensional dan berbagai fungsi matematika\n",
    "from sklearn.preprocessing import LabelEncoder # Kebutuhan encoding label\n",
    "from sklearn.metrics import accuracy_score # accuracy_score berguna untuk mengukur akurasi model klasifikasi"
   ]
  },
  {
   "cell_type": "code",
   "execution_count": 2,
   "metadata": {},
   "outputs": [
    {
     "data": {
      "text/html": [
       "<div>\n",
       "<style scoped>\n",
       "    .dataframe tbody tr th:only-of-type {\n",
       "        vertical-align: middle;\n",
       "    }\n",
       "\n",
       "    .dataframe tbody tr th {\n",
       "        vertical-align: top;\n",
       "    }\n",
       "\n",
       "    .dataframe thead th {\n",
       "        text-align: right;\n",
       "    }\n",
       "</style>\n",
       "<table border=\"1\" class=\"dataframe\">\n",
       "  <thead>\n",
       "    <tr style=\"text-align: right;\">\n",
       "      <th></th>\n",
       "      <th>Id</th>\n",
       "      <th>SepalLengthCm</th>\n",
       "      <th>SepalWidthCm</th>\n",
       "      <th>PetalLengthCm</th>\n",
       "      <th>PetalWidthCm</th>\n",
       "      <th>Species</th>\n",
       "    </tr>\n",
       "  </thead>\n",
       "  <tbody>\n",
       "    <tr>\n",
       "      <th>0</th>\n",
       "      <td>1</td>\n",
       "      <td>5.1</td>\n",
       "      <td>3.5</td>\n",
       "      <td>1.4</td>\n",
       "      <td>0.2</td>\n",
       "      <td>Iris-setosa</td>\n",
       "    </tr>\n",
       "    <tr>\n",
       "      <th>1</th>\n",
       "      <td>2</td>\n",
       "      <td>4.9</td>\n",
       "      <td>3.0</td>\n",
       "      <td>1.4</td>\n",
       "      <td>0.2</td>\n",
       "      <td>Iris-setosa</td>\n",
       "    </tr>\n",
       "    <tr>\n",
       "      <th>2</th>\n",
       "      <td>3</td>\n",
       "      <td>4.7</td>\n",
       "      <td>3.2</td>\n",
       "      <td>1.3</td>\n",
       "      <td>0.2</td>\n",
       "      <td>Iris-setosa</td>\n",
       "    </tr>\n",
       "    <tr>\n",
       "      <th>3</th>\n",
       "      <td>4</td>\n",
       "      <td>4.6</td>\n",
       "      <td>3.1</td>\n",
       "      <td>1.5</td>\n",
       "      <td>0.2</td>\n",
       "      <td>Iris-setosa</td>\n",
       "    </tr>\n",
       "    <tr>\n",
       "      <th>4</th>\n",
       "      <td>5</td>\n",
       "      <td>5.0</td>\n",
       "      <td>3.6</td>\n",
       "      <td>1.4</td>\n",
       "      <td>0.2</td>\n",
       "      <td>Iris-setosa</td>\n",
       "    </tr>\n",
       "  </tbody>\n",
       "</table>\n",
       "</div>"
      ],
      "text/plain": [
       "   Id  SepalLengthCm  SepalWidthCm  PetalLengthCm  PetalWidthCm      Species\n",
       "0   1            5.1           3.5            1.4           0.2  Iris-setosa\n",
       "1   2            4.9           3.0            1.4           0.2  Iris-setosa\n",
       "2   3            4.7           3.2            1.3           0.2  Iris-setosa\n",
       "3   4            4.6           3.1            1.5           0.2  Iris-setosa\n",
       "4   5            5.0           3.6            1.4           0.2  Iris-setosa"
      ]
     },
     "execution_count": 2,
     "metadata": {},
     "output_type": "execute_result"
    }
   ],
   "source": [
    "# Load data\n",
    "df = pd.read_csv('data/iris.csv') # # Membaca data dari file CSV dan menyimpannya dalam sebuah DataFrame\n",
    "\n",
    "df.head() # Menampilkan 5 baris data teratas"
   ]
  },
  {
   "cell_type": "code",
   "execution_count": 3,
   "metadata": {},
   "outputs": [
    {
     "data": {
      "text/plain": [
       "Id               0\n",
       "SepalLengthCm    0\n",
       "SepalWidthCm     0\n",
       "PetalLengthCm    0\n",
       "PetalWidthCm     0\n",
       "Species          0\n",
       "dtype: int64"
      ]
     },
     "execution_count": 3,
     "metadata": {},
     "output_type": "execute_result"
    }
   ],
   "source": [
    "# Cek kolom null\n",
    "df.isnull().sum() # menghitung jumlah nilai-nilai yang hilang (NaN) dalam setiap kolom DataFrame df"
   ]
  },
  {
   "cell_type": "code",
   "execution_count": 4,
   "metadata": {},
   "outputs": [
    {
     "name": "stdout",
     "output_type": "stream",
     "text": [
      "(150, 3)\n",
      "[0 0 0 0 0 0 0 0 0 0 0 0 0 0 0 0 0 0 0 0 0 0 0 0 0 0 0 0 0 0 0 0 0 0 0 0 0\n",
      " 0 0 0 0 0 0 0 0 0 0 0 0 0 1 1 1 1 1 1 1 1 1 1 1 1 1 1 1 1 1 1 1 1 1 1 1 1\n",
      " 1 1 1 1 1 1 1 1 1 1 1 1 1 1 1 1 1 1 1 1 1 1 1 1 1 1 2 2 2 2 2 2 2 2 2 2 2\n",
      " 2 2 2 2 2 2 2 2 2 2 2 2 2 2 2 2 2 2 2 2 2 2 2 2 2 2 2 2 2 2 2 2 2 2 2 2 2\n",
      " 2 2]\n"
     ]
    }
   ],
   "source": [
    "# Seleksi fitur\n",
    "X = df.iloc[:,2:-1] # memilih semua baris dari indeks ke-2 hingga satu kolom sebelum yang terakhir\n",
    "y = df['Species'] # mengambil kolom 'Species' dari DataFrame\n",
    "\n",
    "# encode label\n",
    "ec = LabelEncoder() # membuat objek LabelEncoder\n",
    "y = ec.fit_transform(y) # mengubah label dalam kolom 'Species' menjadi representasi bilangan bulat\n",
    "\n",
    "# Cek jumlah fitur dan instance\n",
    "print(X.shape)\n",
    "\n",
    "# Cek label\n",
    "print(y)"
   ]
  },
  {
   "cell_type": "code",
   "execution_count": 5,
   "metadata": {},
   "outputs": [
    {
     "data": {
      "text/plain": [
       "0.8947368421052632"
      ]
     },
     "execution_count": 5,
     "metadata": {},
     "output_type": "execute_result"
    }
   ],
   "source": [
    "layer_one_estimators = [\n",
    "                        ('rf_1', RandomForestClassifier(n_estimators=10, random_state=42)),\n",
    "                        ('knn_1', KNeighborsClassifier(n_neighbors=5))             \n",
    "                       ] #  menginisialisasi dua estimator (model) yang akan digunakan sebagai \"layer satu\" dalam suatu ensambel\n",
    "layer_two_estimators = [\n",
    "                        ('dt_2', DecisionTreeClassifier()),\n",
    "                        ('rf_2', RandomForestClassifier(n_estimators=50, random_state=42)),\n",
    "                       ] #  menginisialisasi dua estimator (model) yang akan digunakan sebagai \"layer satu\" dalam suatu ensambel\n",
    "layer_two = StackingClassifier(estimators=layer_two_estimators, final_estimator=LogisticRegression()) # model \"layer dua\" digunakan untuk menggabungkan hasil dari model \"layer satu\" untuk menghasilkan prediksi akhir\n",
    "\n",
    "clf = StackingClassifier(estimators=layer_one_estimators, final_estimator=layer_two) # menggabungkan model \"layer satu\" (dari layer_one_estimators) dan model \"layer dua\" (yang telah Anda definisikan sebelumnya sebagai layer_two)\n",
    "\n",
    "X_train, X_test, y_train, y_test = train_test_split(X, y, stratify=y, random_state=42) # membagi data menjadi dua set: data pelatihan dan data pengujian dengan proporsi yang seimbang berdasarakan kolom y\n",
    "clf.fit(X_train, y_train).score(X_test, y_test) # melatih model yang telah Anda buat (dalam hal ini, model yang dibuat dengan StackingClassifier) dengan data pelatihan (X_train dan y_train) dan kemudian mengukur akurasi model pada data pengujian (X_test dan y_test)"
   ]
  },
  {
   "cell_type": "code",
   "execution_count": 6,
   "metadata": {},
   "outputs": [
    {
     "name": "stdout",
     "output_type": "stream",
     "text": [
      "Test set accuracy: 0.89\n",
      "Test set accuracy: 0.8947368421052632\n"
     ]
    }
   ],
   "source": [
    "# Memprediksi label set test\n",
    "y_pred_dt = clf.predict(X_test)\n",
    "\n",
    "#  menghitung set accuracy\n",
    "acc_dt = accuracy_score(y_test, y_pred_dt)\n",
    "print(\"Test set accuracy: {:.2f}\".format(acc_dt))\n",
    "print(f\"Test set accuracy: {acc_dt}\")"
   ]
  }
 ],
 "metadata": {
  "kernelspec": {
   "display_name": "base",
   "language": "python",
   "name": "python3"
  },
  "language_info": {
   "codemirror_mode": {
    "name": "ipython",
    "version": 3
   },
   "file_extension": ".py",
   "mimetype": "text/x-python",
   "name": "python",
   "nbconvert_exporter": "python",
   "pygments_lexer": "ipython3",
   "version": "3.11.4"
  }
 },
 "nbformat": 4,
 "nbformat_minor": 2
}
