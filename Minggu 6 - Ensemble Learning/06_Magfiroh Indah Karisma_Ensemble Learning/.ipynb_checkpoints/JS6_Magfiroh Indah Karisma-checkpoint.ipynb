{
 "cells": [
  {
   "cell_type": "markdown",
   "metadata": {},
   "source": [
    "# JOBSHEET 6 - ENSEMBLE LEARNING\n",
    "\n",
    "#### Nama: Magfiroh Indah Karisma\n",
    "#### NIM: 2141720180\n",
    "\n",
    "## PRAKTIKUM 1 : Bagging\n",
    "\n",
    "Import Library"
   ]
  },
  {
   "cell_type": "code",
   "execution_count": 3,
   "metadata": {},
   "outputs": [],
   "source": [
    "# Mengimpor pustaka NumPy dengan alias 'np' untuk digunakan nanti\n",
    "import numpy as np\n",
    "\n",
    "# Mengimpor pustaka Pandas dengan alias 'pd' untuk digunakan nanti\n",
    "import pandas as pd\n",
    "\n",
    "# Mengimpor kelas DecisionTreeClassifier dari scikit-learn untuk digunakan nanti\n",
    "from sklearn.tree import DecisionTreeClassifier\n",
    "\n",
    "# Mengimpor kelas RandomForestClassifier dari scikit-learn untuk digunakan nanti\n",
    "from sklearn.ensemble import RandomForestClassifier\n",
    "\n",
    "# Mengimpor fungsi train_test_split dari scikit-learn untuk digunakan nanti\n",
    "from sklearn.model_selection import train_test_split\n",
    "\n",
    "# Mengimpor beberapa metrik evaluasi, yaitu accuracy_score dan classification_report dari scikit-learn\n",
    "from sklearn.metrics import accuracy_score, classification_report\n"
   ]
  },
  {
   "cell_type": "markdown",
   "metadata": {},
   "source": [
    "Persiapan Data"
   ]
  },
  {
   "cell_type": "code",
   "execution_count": 2,
   "metadata": {},
   "outputs": [
    {
     "data": {
      "text/html": [
       "<div>\n",
       "<style scoped>\n",
       "    .dataframe tbody tr th:only-of-type {\n",
       "        vertical-align: middle;\n",
       "    }\n",
       "\n",
       "    .dataframe tbody tr th {\n",
       "        vertical-align: top;\n",
       "    }\n",
       "\n",
       "    .dataframe thead th {\n",
       "        text-align: right;\n",
       "    }\n",
       "</style>\n",
       "<table border=\"1\" class=\"dataframe\">\n",
       "  <thead>\n",
       "    <tr style=\"text-align: right;\">\n",
       "      <th></th>\n",
       "      <th>id</th>\n",
       "      <th>diagnosis</th>\n",
       "      <th>radius_mean</th>\n",
       "      <th>texture_mean</th>\n",
       "      <th>perimeter_mean</th>\n",
       "      <th>area_mean</th>\n",
       "      <th>smoothness_mean</th>\n",
       "      <th>compactness_mean</th>\n",
       "      <th>concavity_mean</th>\n",
       "      <th>concave points_mean</th>\n",
       "      <th>...</th>\n",
       "      <th>texture_worst</th>\n",
       "      <th>perimeter_worst</th>\n",
       "      <th>area_worst</th>\n",
       "      <th>smoothness_worst</th>\n",
       "      <th>compactness_worst</th>\n",
       "      <th>concavity_worst</th>\n",
       "      <th>concave points_worst</th>\n",
       "      <th>symmetry_worst</th>\n",
       "      <th>fractal_dimension_worst</th>\n",
       "      <th>Unnamed: 32</th>\n",
       "    </tr>\n",
       "  </thead>\n",
       "  <tbody>\n",
       "    <tr>\n",
       "      <th>0</th>\n",
       "      <td>842302</td>\n",
       "      <td>M</td>\n",
       "      <td>17.99</td>\n",
       "      <td>10.38</td>\n",
       "      <td>122.80</td>\n",
       "      <td>1001.0</td>\n",
       "      <td>0.11840</td>\n",
       "      <td>0.27760</td>\n",
       "      <td>0.3001</td>\n",
       "      <td>0.14710</td>\n",
       "      <td>...</td>\n",
       "      <td>17.33</td>\n",
       "      <td>184.60</td>\n",
       "      <td>2019.0</td>\n",
       "      <td>0.1622</td>\n",
       "      <td>0.6656</td>\n",
       "      <td>0.7119</td>\n",
       "      <td>0.2654</td>\n",
       "      <td>0.4601</td>\n",
       "      <td>0.11890</td>\n",
       "      <td>NaN</td>\n",
       "    </tr>\n",
       "    <tr>\n",
       "      <th>1</th>\n",
       "      <td>842517</td>\n",
       "      <td>M</td>\n",
       "      <td>20.57</td>\n",
       "      <td>17.77</td>\n",
       "      <td>132.90</td>\n",
       "      <td>1326.0</td>\n",
       "      <td>0.08474</td>\n",
       "      <td>0.07864</td>\n",
       "      <td>0.0869</td>\n",
       "      <td>0.07017</td>\n",
       "      <td>...</td>\n",
       "      <td>23.41</td>\n",
       "      <td>158.80</td>\n",
       "      <td>1956.0</td>\n",
       "      <td>0.1238</td>\n",
       "      <td>0.1866</td>\n",
       "      <td>0.2416</td>\n",
       "      <td>0.1860</td>\n",
       "      <td>0.2750</td>\n",
       "      <td>0.08902</td>\n",
       "      <td>NaN</td>\n",
       "    </tr>\n",
       "    <tr>\n",
       "      <th>2</th>\n",
       "      <td>84300903</td>\n",
       "      <td>M</td>\n",
       "      <td>19.69</td>\n",
       "      <td>21.25</td>\n",
       "      <td>130.00</td>\n",
       "      <td>1203.0</td>\n",
       "      <td>0.10960</td>\n",
       "      <td>0.15990</td>\n",
       "      <td>0.1974</td>\n",
       "      <td>0.12790</td>\n",
       "      <td>...</td>\n",
       "      <td>25.53</td>\n",
       "      <td>152.50</td>\n",
       "      <td>1709.0</td>\n",
       "      <td>0.1444</td>\n",
       "      <td>0.4245</td>\n",
       "      <td>0.4504</td>\n",
       "      <td>0.2430</td>\n",
       "      <td>0.3613</td>\n",
       "      <td>0.08758</td>\n",
       "      <td>NaN</td>\n",
       "    </tr>\n",
       "    <tr>\n",
       "      <th>3</th>\n",
       "      <td>84348301</td>\n",
       "      <td>M</td>\n",
       "      <td>11.42</td>\n",
       "      <td>20.38</td>\n",
       "      <td>77.58</td>\n",
       "      <td>386.1</td>\n",
       "      <td>0.14250</td>\n",
       "      <td>0.28390</td>\n",
       "      <td>0.2414</td>\n",
       "      <td>0.10520</td>\n",
       "      <td>...</td>\n",
       "      <td>26.50</td>\n",
       "      <td>98.87</td>\n",
       "      <td>567.7</td>\n",
       "      <td>0.2098</td>\n",
       "      <td>0.8663</td>\n",
       "      <td>0.6869</td>\n",
       "      <td>0.2575</td>\n",
       "      <td>0.6638</td>\n",
       "      <td>0.17300</td>\n",
       "      <td>NaN</td>\n",
       "    </tr>\n",
       "    <tr>\n",
       "      <th>4</th>\n",
       "      <td>84358402</td>\n",
       "      <td>M</td>\n",
       "      <td>20.29</td>\n",
       "      <td>14.34</td>\n",
       "      <td>135.10</td>\n",
       "      <td>1297.0</td>\n",
       "      <td>0.10030</td>\n",
       "      <td>0.13280</td>\n",
       "      <td>0.1980</td>\n",
       "      <td>0.10430</td>\n",
       "      <td>...</td>\n",
       "      <td>16.67</td>\n",
       "      <td>152.20</td>\n",
       "      <td>1575.0</td>\n",
       "      <td>0.1374</td>\n",
       "      <td>0.2050</td>\n",
       "      <td>0.4000</td>\n",
       "      <td>0.1625</td>\n",
       "      <td>0.2364</td>\n",
       "      <td>0.07678</td>\n",
       "      <td>NaN</td>\n",
       "    </tr>\n",
       "  </tbody>\n",
       "</table>\n",
       "<p>5 rows × 33 columns</p>\n",
       "</div>"
      ],
      "text/plain": [
       "         id diagnosis  radius_mean  texture_mean  perimeter_mean  area_mean  \\\n",
       "0    842302         M        17.99         10.38          122.80     1001.0   \n",
       "1    842517         M        20.57         17.77          132.90     1326.0   \n",
       "2  84300903         M        19.69         21.25          130.00     1203.0   \n",
       "3  84348301         M        11.42         20.38           77.58      386.1   \n",
       "4  84358402         M        20.29         14.34          135.10     1297.0   \n",
       "\n",
       "   smoothness_mean  compactness_mean  concavity_mean  concave points_mean  \\\n",
       "0          0.11840           0.27760          0.3001              0.14710   \n",
       "1          0.08474           0.07864          0.0869              0.07017   \n",
       "2          0.10960           0.15990          0.1974              0.12790   \n",
       "3          0.14250           0.28390          0.2414              0.10520   \n",
       "4          0.10030           0.13280          0.1980              0.10430   \n",
       "\n",
       "   ...  texture_worst  perimeter_worst  area_worst  smoothness_worst  \\\n",
       "0  ...          17.33           184.60      2019.0            0.1622   \n",
       "1  ...          23.41           158.80      1956.0            0.1238   \n",
       "2  ...          25.53           152.50      1709.0            0.1444   \n",
       "3  ...          26.50            98.87       567.7            0.2098   \n",
       "4  ...          16.67           152.20      1575.0            0.1374   \n",
       "\n",
       "   compactness_worst  concavity_worst  concave points_worst  symmetry_worst  \\\n",
       "0             0.6656           0.7119                0.2654          0.4601   \n",
       "1             0.1866           0.2416                0.1860          0.2750   \n",
       "2             0.4245           0.4504                0.2430          0.3613   \n",
       "3             0.8663           0.6869                0.2575          0.6638   \n",
       "4             0.2050           0.4000                0.1625          0.2364   \n",
       "\n",
       "   fractal_dimension_worst  Unnamed: 32  \n",
       "0                  0.11890          NaN  \n",
       "1                  0.08902          NaN  \n",
       "2                  0.08758          NaN  \n",
       "3                  0.17300          NaN  \n",
       "4                  0.07678          NaN  \n",
       "\n",
       "[5 rows x 33 columns]"
      ]
     },
     "execution_count": 2,
     "metadata": {},
     "output_type": "execute_result"
    }
   ],
   "source": [
    "# Mengimpor pustaka Pandas dengan alias 'pd' untuk digunakan dalam membaca dan mengelola data\n",
    "import pandas as pd\n",
    "\n",
    "# Membaca data dari file CSV 'wbc.csv' dan menyimpannya dalam sebuah DataFrame (df)\n",
    "df = pd.read_csv('data/wbc.csv')\n",
    "\n",
    "# Menampilkan lima baris pertama dari DataFrame df untuk melihat sebagian data awal\n",
    "df.head()\n"
   ]
  },
  {
   "cell_type": "code",
   "execution_count": 3,
   "metadata": {},
   "outputs": [
    {
     "data": {
      "text/plain": [
       "id                           0\n",
       "diagnosis                    0\n",
       "radius_mean                  0\n",
       "texture_mean                 0\n",
       "perimeter_mean               0\n",
       "area_mean                    0\n",
       "smoothness_mean              0\n",
       "compactness_mean             0\n",
       "concavity_mean               0\n",
       "concave points_mean          0\n",
       "symmetry_mean                0\n",
       "fractal_dimension_mean       0\n",
       "radius_se                    0\n",
       "texture_se                   0\n",
       "perimeter_se                 0\n",
       "area_se                      0\n",
       "smoothness_se                0\n",
       "compactness_se               0\n",
       "concavity_se                 0\n",
       "concave points_se            0\n",
       "symmetry_se                  0\n",
       "fractal_dimension_se         0\n",
       "radius_worst                 0\n",
       "texture_worst                0\n",
       "perimeter_worst              0\n",
       "area_worst                   0\n",
       "smoothness_worst             0\n",
       "compactness_worst            0\n",
       "concavity_worst              0\n",
       "concave points_worst         0\n",
       "symmetry_worst               0\n",
       "fractal_dimension_worst      0\n",
       "Unnamed: 32                569\n",
       "dtype: int64"
      ]
     },
     "execution_count": 3,
     "metadata": {},
     "output_type": "execute_result"
    }
   ],
   "source": [
    "# Cek kolom null\n",
    "df.isnull().sum()"
   ]
  },
  {
   "cell_type": "code",
   "execution_count": 4,
   "metadata": {},
   "outputs": [
    {
     "data": {
      "text/plain": [
       "(569, 29)"
      ]
     },
     "execution_count": 4,
     "metadata": {},
     "output_type": "execute_result"
    }
   ],
   "source": [
    "# Seleksi fitur\n",
    "\n",
    "# Mengambil fitur-fitur dari DataFrame df, dimulai dari kolom 'radius_mean' hingga 'fractal_dimension_worst'\n",
    "X = df.iloc[:, 3:-1]\n",
    "\n",
    "# Mengambil kolom 'diagnosis' sebagai target (label) yang akan diprediksi\n",
    "y = df['diagnosis']\n",
    "\n",
    "# Menggunakan metode 'map' untuk mengkodekan label 'M' (Malignant) sebagai 1 dan 'B' (Benign) sebagai 0\n",
    "y = y.map({'M': 1, 'B': 0})\n",
    "\n",
    "# Cek jumlah fitur dan instance (baris dan kolom) dalam matriks fitur (X)\n",
    "X.shape\n"
   ]
  },
  {
   "cell_type": "markdown",
   "metadata": {},
   "source": [
    "Split data training dan testing"
   ]
  },
  {
   "cell_type": "code",
   "execution_count": 5,
   "metadata": {},
   "outputs": [],
   "source": [
    "# Mengimpor fungsi train_test_split dari scikit-learn untuk membagi data\n",
    "from sklearn.model_selection import train_test_split\n",
    "\n",
    "# Memisahkan data menjadi set pelatihan dan pengujian\n",
    "# X_train dan X_test adalah matriks fitur untuk set pelatihan dan pengujian\n",
    "# y_train dan y_test adalah label yang sesuai dengan set pelatihan dan pengujian\n",
    "# test_size=0.2 mengatur bahwa 20% dari data akan digunakan sebagai data pengujian\n",
    "# random_state=1 digunakan untuk menghasilkan pemisahan data yang reprodusibel\n",
    "X_train, X_test, y_train, y_test = train_test_split(X, y, test_size=0.2, random_state=1)\n"
   ]
  },
  {
   "cell_type": "markdown",
   "metadata": {},
   "source": [
    "Traning Decision Tree"
   ]
  },
  {
   "cell_type": "code",
   "execution_count": 6,
   "metadata": {},
   "outputs": [
    {
     "name": "stdout",
     "output_type": "stream",
     "text": [
      "Test set accuracy: 0.94\n",
      "Test set accuracy: 0.9385964912280702\n"
     ]
    }
   ],
   "source": [
    "# Membuat model Decision Tree dengan parameter default\n",
    "dt = DecisionTreeClassifier()\n",
    "\n",
    "# Melatih model Decision Tree menggunakan data pelatihan (X_train dan y_train)\n",
    "dt.fit(X_train, y_train)\n",
    "\n",
    "# Menggunakan model yang telah dilatih untuk memprediksi label pada data pengujian (X_test)\n",
    "y_pred_dt = dt.predict(X_test)\n",
    "\n",
    "# Menghitung akurasi model dengan membandingkan prediksi (y_pred_dt) dengan label sebenarnya (y_test)\n",
    "acc_dt = accuracy_score(y_test, y_pred_dt)\n",
    "\n",
    "# Mencetak hasil akurasi pada set pengujian\n",
    "print(\"Test set accuracy: {:.2f}\".format(acc_dt))\n",
    "print(f\"Test set accuracy: {acc_dt}\")"
   ]
  },
  {
   "cell_type": "markdown",
   "metadata": {},
   "source": [
    "Training RandomForest"
   ]
  },
  {
   "cell_type": "code",
   "execution_count": 7,
   "metadata": {},
   "outputs": [
    {
     "name": "stdout",
     "output_type": "stream",
     "text": [
      "Test set accuracy: 0.96\n",
      "Test set accuracy: 0.956140350877193\n"
     ]
    }
   ],
   "source": [
    "# Membuat model Random Forest dengan 10 estimator (pohon keputusan) dan seed acak (random state) 1\n",
    "rf = RandomForestClassifier(n_estimators=10, random_state=1)\n",
    "\n",
    "# Melatih model Random Forest menggunakan data pelatihan (X_train dan y_train)\n",
    "rf.fit(X_train, y_train)\n",
    "\n",
    "# Menggunakan model yang telah dilatih untuk memprediksi label pada data pengujian (X_test)\n",
    "y_pred_rf = rf.predict(X_test)\n",
    "\n",
    "# Menghitung akurasi model dengan membandingkan prediksi (y_pred_rf) dengan label sebenarnya (y_test)\n",
    "acc_rf = accuracy_score(y_test, y_pred_rf)\n",
    "\n",
    "# Mencetak hasil akurasi pada set pengujian\n",
    "print(\"Test set accuracy: {:.2f}\".format(acc_rf))\n",
    "print(f\"Test set accuracy: {acc_rf}\")"
   ]
  },
  {
   "cell_type": "markdown",
   "metadata": {},
   "source": [
    "## PRAKTIKUM 2 : Boosting\n",
    "Import Library"
   ]
  },
  {
   "cell_type": "code",
   "execution_count": 8,
   "metadata": {},
   "outputs": [],
   "source": [
    "# Mengimpor pustaka NumPy dengan alias 'np' untuk digunakan nanti\n",
    "import numpy as np\n",
    "\n",
    "# Mengimpor pustaka Pandas dengan alias 'pd' untuk digunakan nanti\n",
    "import pandas as pd\n",
    "\n",
    "# Mengimpor kelas DecisionTreeClassifier dari scikit-learn untuk digunakan nanti\n",
    "from sklearn.tree import DecisionTreeClassifier\n",
    "\n",
    "# Mengimpor kelas AdaBoostClassifier dari scikit-learn untuk digunakan nanti\n",
    "from sklearn.ensemble import AdaBoostClassifier\n",
    "\n",
    "# Mengimpor fungsi train_test_split dari scikit-learn untuk membagi data menjadi set pelatihan dan pengujian\n",
    "from sklearn.model_selection import train_test_split\n",
    "\n",
    "# Mengimpor beberapa metrik evaluasi, yaitu accuracy_score dan classification_report dari scikit-learn\n",
    "from sklearn.metrics import accuracy_score, classification_report\n",
    "\n",
    "# Mengimpor LabelEncoder dari scikit-learn untuk encoding label yang bersifat kategorikal\n",
    "from sklearn.preprocessing import LabelEncoder\n"
   ]
  },
  {
   "cell_type": "markdown",
   "metadata": {},
   "source": [
    "Persiapan Data"
   ]
  },
  {
   "cell_type": "code",
   "execution_count": 9,
   "metadata": {},
   "outputs": [
    {
     "data": {
      "text/html": [
       "<div>\n",
       "<style scoped>\n",
       "    .dataframe tbody tr th:only-of-type {\n",
       "        vertical-align: middle;\n",
       "    }\n",
       "\n",
       "    .dataframe tbody tr th {\n",
       "        vertical-align: top;\n",
       "    }\n",
       "\n",
       "    .dataframe thead th {\n",
       "        text-align: right;\n",
       "    }\n",
       "</style>\n",
       "<table border=\"1\" class=\"dataframe\">\n",
       "  <thead>\n",
       "    <tr style=\"text-align: right;\">\n",
       "      <th></th>\n",
       "      <th>Id</th>\n",
       "      <th>SepalLengthCm</th>\n",
       "      <th>SepalWidthCm</th>\n",
       "      <th>PetalLengthCm</th>\n",
       "      <th>PetalWidthCm</th>\n",
       "      <th>Species</th>\n",
       "    </tr>\n",
       "  </thead>\n",
       "  <tbody>\n",
       "    <tr>\n",
       "      <th>0</th>\n",
       "      <td>1</td>\n",
       "      <td>5.1</td>\n",
       "      <td>3.5</td>\n",
       "      <td>1.4</td>\n",
       "      <td>0.2</td>\n",
       "      <td>Iris-setosa</td>\n",
       "    </tr>\n",
       "    <tr>\n",
       "      <th>1</th>\n",
       "      <td>2</td>\n",
       "      <td>4.9</td>\n",
       "      <td>3.0</td>\n",
       "      <td>1.4</td>\n",
       "      <td>0.2</td>\n",
       "      <td>Iris-setosa</td>\n",
       "    </tr>\n",
       "    <tr>\n",
       "      <th>2</th>\n",
       "      <td>3</td>\n",
       "      <td>4.7</td>\n",
       "      <td>3.2</td>\n",
       "      <td>1.3</td>\n",
       "      <td>0.2</td>\n",
       "      <td>Iris-setosa</td>\n",
       "    </tr>\n",
       "    <tr>\n",
       "      <th>3</th>\n",
       "      <td>4</td>\n",
       "      <td>4.6</td>\n",
       "      <td>3.1</td>\n",
       "      <td>1.5</td>\n",
       "      <td>0.2</td>\n",
       "      <td>Iris-setosa</td>\n",
       "    </tr>\n",
       "    <tr>\n",
       "      <th>4</th>\n",
       "      <td>5</td>\n",
       "      <td>5.0</td>\n",
       "      <td>3.6</td>\n",
       "      <td>1.4</td>\n",
       "      <td>0.2</td>\n",
       "      <td>Iris-setosa</td>\n",
       "    </tr>\n",
       "  </tbody>\n",
       "</table>\n",
       "</div>"
      ],
      "text/plain": [
       "   Id  SepalLengthCm  SepalWidthCm  PetalLengthCm  PetalWidthCm      Species\n",
       "0   1            5.1           3.5            1.4           0.2  Iris-setosa\n",
       "1   2            4.9           3.0            1.4           0.2  Iris-setosa\n",
       "2   3            4.7           3.2            1.3           0.2  Iris-setosa\n",
       "3   4            4.6           3.1            1.5           0.2  Iris-setosa\n",
       "4   5            5.0           3.6            1.4           0.2  Iris-setosa"
      ]
     },
     "execution_count": 9,
     "metadata": {},
     "output_type": "execute_result"
    }
   ],
   "source": [
    "# Load data\n",
    "df = pd.read_csv('data/iris.csv')\n",
    "\n",
    "df.head()"
   ]
  },
  {
   "cell_type": "code",
   "execution_count": 10,
   "metadata": {},
   "outputs": [
    {
     "data": {
      "text/plain": [
       "Id               0\n",
       "SepalLengthCm    0\n",
       "SepalWidthCm     0\n",
       "PetalLengthCm    0\n",
       "PetalWidthCm     0\n",
       "Species          0\n",
       "dtype: int64"
      ]
     },
     "execution_count": 10,
     "metadata": {},
     "output_type": "execute_result"
    }
   ],
   "source": [
    "# Cek kolom null\n",
    "df.isnull().sum()"
   ]
  },
  {
   "cell_type": "code",
   "execution_count": 11,
   "metadata": {},
   "outputs": [
    {
     "name": "stdout",
     "output_type": "stream",
     "text": [
      "(150, 3)\n",
      "[0 0 0 0 0 0 0 0 0 0 0 0 0 0 0 0 0 0 0 0 0 0 0 0 0 0 0 0 0 0 0 0 0 0 0 0 0\n",
      " 0 0 0 0 0 0 0 0 0 0 0 0 0 1 1 1 1 1 1 1 1 1 1 1 1 1 1 1 1 1 1 1 1 1 1 1 1\n",
      " 1 1 1 1 1 1 1 1 1 1 1 1 1 1 1 1 1 1 1 1 1 1 1 1 1 1 2 2 2 2 2 2 2 2 2 2 2\n",
      " 2 2 2 2 2 2 2 2 2 2 2 2 2 2 2 2 2 2 2 2 2 2 2 2 2 2 2 2 2 2 2 2 2 2 2 2 2\n",
      " 2 2]\n"
     ]
    }
   ],
   "source": [
    "# Mengambil fitur-fitur dari DataFrame df, dimulai dari kolom ke-2 hingga sebelum kolom terakhir\n",
    "X = df.iloc[:, 2:-1]\n",
    "\n",
    "# Mengambil kolom 'Species' sebagai target (label) yang akan diprediksi\n",
    "y = df['Species']\n",
    "\n",
    "# Menggunakan LabelEncoder untuk mengkodekan label kategorikal menjadi angka\n",
    "le = LabelEncoder()\n",
    "y = le.fit_transform(y)\n",
    "\n",
    "# Cek jumlah fitur (kolom) dan instance (baris) dalam matriks fitur X\n",
    "print(X.shape)\n",
    "\n",
    "# Cek label yang telah dikodekan\n",
    "print(y)\n"
   ]
  },
  {
   "cell_type": "markdown",
   "metadata": {},
   "source": [
    "Split data training dan testing"
   ]
  },
  {
   "cell_type": "code",
   "execution_count": 12,
   "metadata": {},
   "outputs": [],
   "source": [
    "# Mengimpor fungsi train_test_split dari scikit-learn untuk membagi data\n",
    "from sklearn.model_selection import train_test_split\n",
    "\n",
    "# Memisahkan data menjadi set pelatihan dan pengujian\n",
    "# X_train dan X_test adalah matriks fitur untuk set pelatihan dan pengujian\n",
    "# y_train dan y_test adalah label yang sesuai dengan set pelatihan dan pengujian\n",
    "# test_size=0.2 mengatur bahwa 20% dari data akan digunakan sebagai data pengujian\n",
    "# random_state=1 digunakan untuk menghasilkan pemisahan data yang reprodusibel\n",
    "X_train, X_test, y_train, y_test = train_test_split(X, y, test_size=0.2, random_state=1)\n"
   ]
  },
  {
   "cell_type": "markdown",
   "metadata": {},
   "source": [
    "Training Decision Tree"
   ]
  },
  {
   "cell_type": "code",
   "execution_count": 13,
   "metadata": {},
   "outputs": [
    {
     "name": "stdout",
     "output_type": "stream",
     "text": [
      "Test set accuracy: 0.97\n",
      "Test set accuracy: 0.9666666666666667\n"
     ]
    }
   ],
   "source": [
    "# Membuat model Decision Tree dengan parameter default\n",
    "dt = DecisionTreeClassifier()\n",
    "\n",
    "# Melatih model Decision Tree menggunakan data pelatihan (X_train dan y_train)\n",
    "dt.fit(X_train, y_train)\n",
    "\n",
    "# Menggunakan model yang telah dilatih untuk memprediksi label pada data pengujian (X_test)\n",
    "y_pred_dt = dt.predict(X_test)\n",
    "\n",
    "# Menghitung akurasi model dengan membandingkan hasil prediksi (y_pred_dt) dengan label sebenarnya (y_test)\n",
    "acc_dt = accuracy_score(y_test, y_pred_dt)\n",
    "\n",
    "# Mencetak hasil akurasi pada set pengujian\n",
    "print(\"Test set accuracy: {:.2f}\".format(acc_dt))\n",
    "print(f\"Test set accuracy: {acc_dt}\")"
   ]
  },
  {
   "cell_type": "markdown",
   "metadata": {},
   "source": [
    "Training AdaBoost"
   ]
  },
  {
   "cell_type": "code",
   "execution_count": 14,
   "metadata": {},
   "outputs": [
    {
     "name": "stdout",
     "output_type": "stream",
     "text": [
      "Test set accuracy: 0.97\n",
      "Test set accuracy: 0.9666666666666667\n"
     ]
    }
   ],
   "source": [
    "# Membuat model AdaBoost dengan 2 estimator (model base)\n",
    "ada = AdaBoostClassifier(n_estimators=2)\n",
    "\n",
    "# Melatih model AdaBoost menggunakan data pelatihan (X_train dan y_train)\n",
    "ada.fit(X_train, y_train)\n",
    "\n",
    "# Menggunakan model yang telah dilatih untuk memprediksi label pada data pengujian (X_test)\n",
    "y_pred_ada = ada.predict(X_test)\n",
    "\n",
    "# Menghitung akurasi model dengan membandingkan hasil prediksi (y_pred_ada) dengan label sebenarnya (y_test)\n",
    "acc_ada = accuracy_score(y_test, y_pred_ada)\n",
    "\n",
    "# Mencetak hasil akurasi pada set pengujian\n",
    "print(\"Test set accuracy: {:.2f}\".format(acc_ada))\n",
    "print(f\"Test set accuracy: {acc_ada}\")"
   ]
  },
  {
   "cell_type": "markdown",
   "metadata": {},
   "source": [
    "## PRAKTIKUM 3 : Stackking\n",
    "\n",
    "#### Stacking\n",
    "Lengkapi bagian berikut dengan data sesuai tugas, dan tentukan perbedaan nilai akurasi antara Random Forest, Adaboost, dan Stacking"
   ]
  },
  {
   "cell_type": "code",
   "execution_count": 15,
   "metadata": {},
   "outputs": [
    {
     "name": "stdout",
     "output_type": "stream",
     "text": [
      "Test set accuracy: 0.89\n",
      "Random Forest Test Set Accuracy: 0.92\n",
      "Adaboost Test Set Accuracy: 0.95\n",
      "Stacking Test Set Accuracy: 0.89\n",
      "Perbedaan akurasi antara Random Forest dan Stacking: 0.03\n",
      "Perbedaan akurasi antara Adaboost dan Stacking: 0.05\n"
     ]
    }
   ],
   "source": [
    "from sklearn.ensemble import RandomForestClassifier, StackingClassifier\n",
    "from sklearn.linear_model import LogisticRegression\n",
    "from sklearn.model_selection import train_test_split\n",
    "from sklearn.neighbors import KNeighborsClassifier\n",
    "from sklearn.tree import DecisionTreeClassifier\n",
    "\n",
    "# Isi dataset sesuai dengan tugas Anda\n",
    "# X adalah matriks fitur\n",
    "# y adalah label target\n",
    "\n",
    "# Definisikan model-model untuk lapisan pertama (layer one)\n",
    "layer_one_estimators = [\n",
    "    ('rf_1', RandomForestClassifier(n_estimators=10, random_state=42)),\n",
    "    ('knn_1', KNeighborsClassifier(n_neighbors=5))\n",
    "]\n",
    "\n",
    "# Definisikan model-model untuk lapisan kedua (layer two)\n",
    "layer_two_estimators = [\n",
    "    ('dt_2', DecisionTreeClassifier()),\n",
    "    ('rf_2', RandomForestClassifier(n_estimators=50, random_state=42))\n",
    "]\n",
    "\n",
    "# Membuat Stacking Classifier untuk lapisan kedua\n",
    "layer_two = StackingClassifier(estimators=layer_two_estimators, final_estimator=LogisticRegression())\n",
    "\n",
    "# Membuat Stacking Classifier utama\n",
    "clf = StackingClassifier(estimators=layer_one_estimators, final_estimator=layer_two)\n",
    "\n",
    "# Memisahkan data menjadi data pelatihan dan pengujian\n",
    "X_train, X_test, y_train, y_test = train_test_split(X, y, stratify=y, random_state=42)\n",
    "\n",
    "# Melatih model Stacking pada data pelatihan\n",
    "clf.fit(X_train, y_train)\n",
    "\n",
    "# Mengukur akurasi model pada data pengujian\n",
    "accuracy = clf.score(X_test, y_test)\n",
    "\n",
    "# Mencetak akurasi model\n",
    "print(\"Test set accuracy: {:.2f}\".format(accuracy))\n",
    "\n",
    "# Anda juga dapat melakukan hal serupa untuk model Random Forest dan Adaboost\n",
    "rf_model = RandomForestClassifier(n_estimators=50, random_state=42)\n",
    "rf_model.fit(X_train, y_train)\n",
    "rf_accuracy = rf_model.score(X_test, y_test)\n",
    "\n",
    "ada_model = AdaBoostClassifier(n_estimators=2)\n",
    "ada_model.fit(X_train, y_train)\n",
    "ada_accuracy = ada_model.score(X_test, y_test)\n",
    "\n",
    "# Mencetak akurasi untuk Random Forest, Adaboost, dan Stacking\n",
    "print(f\"Random Forest Test Set Accuracy: {rf_accuracy:.2f}\")\n",
    "print(f\"Adaboost Test Set Accuracy: {ada_accuracy:.2f}\")\n",
    "print(f\"Stacking Test Set Accuracy: {accuracy:.2f}\")\n",
    "\n",
    "# Perbedaan akurasi antara model-model\n",
    "print(f\"Perbedaan akurasi antara Random Forest dan Stacking: {rf_accuracy - accuracy:.2f}\")\n",
    "print(f\"Perbedaan akurasi antara Adaboost dan Stacking: {ada_accuracy - accuracy:.2f}\")\n"
   ]
  },
  {
   "cell_type": "markdown",
   "metadata": {},
   "source": [
    "## PRAKTIKUM 4 : Voting\n",
    "\n",
    "#### Stacking dengan Voting\n",
    "Pada kasus ini kita akan menggunakan salah satu metode stacking yaitu voting untuk mengklasifikasikan pasien penderita diabetes dengan beberapa ciri. Pasien akan di klasifikasikan menjadi pasien menderita diabetes (1) dan tidak menderita diabetes (0). Pertama-tama, kita akan menggunakan beberapa algoritma klasifikasi secara terpisah, yaitu Naive Bayes, SVM Linier, dan SVM RBF. Setelah itu, kita akan menggabungkan performa dari 3 algoritma tersebut dengan menggunakan metode ensemble voting.\n",
    "\n",
    "Import Library"
   ]
  },
  {
   "cell_type": "code",
   "execution_count": 16,
   "metadata": {},
   "outputs": [],
   "source": [
    "# Mengimpor pustaka NumPy dengan alias 'np' untuk digunakan nanti\n",
    "import numpy as np\n",
    "\n",
    "# Mengimpor pustaka Pandas dengan alias 'pd' untuk digunakan nanti\n",
    "import pandas as pd\n",
    "\n",
    "# Mengimpor model Gaussian Naive Bayes dari scikit-learn\n",
    "from sklearn.naive_bayes import GaussianNB\n",
    "\n",
    "# Mengimpor model Support Vector Classifier (SVC) dari scikit-learn\n",
    "from sklearn.svm import SVC\n",
    "\n",
    "# Mengimpor model Voting Classifier dari scikit-learn\n",
    "from sklearn.ensemble import VotingClassifier\n",
    "\n",
    "# Mengimpor fungsi train_test_split dari scikit-learn untuk membagi data menjadi set pelatihan dan pengujian\n",
    "from sklearn.model_selection import train_test_split\n",
    "\n",
    "# Mengimpor beberapa metrik evaluasi, yaitu accuracy_score dan classification_report dari scikit-learn\n",
    "from sklearn.metrics import accuracy_score, classification_report\n"
   ]
  },
  {
   "cell_type": "markdown",
   "metadata": {},
   "source": [
    "Persiapan Data"
   ]
  },
  {
   "cell_type": "code",
   "execution_count": 17,
   "metadata": {},
   "outputs": [
    {
     "data": {
      "text/html": [
       "<div>\n",
       "<style scoped>\n",
       "    .dataframe tbody tr th:only-of-type {\n",
       "        vertical-align: middle;\n",
       "    }\n",
       "\n",
       "    .dataframe tbody tr th {\n",
       "        vertical-align: top;\n",
       "    }\n",
       "\n",
       "    .dataframe thead th {\n",
       "        text-align: right;\n",
       "    }\n",
       "</style>\n",
       "<table border=\"1\" class=\"dataframe\">\n",
       "  <thead>\n",
       "    <tr style=\"text-align: right;\">\n",
       "      <th></th>\n",
       "      <th>Pregnancies</th>\n",
       "      <th>Glucose</th>\n",
       "      <th>BloodPressure</th>\n",
       "      <th>SkinThickness</th>\n",
       "      <th>Insulin</th>\n",
       "      <th>BMI</th>\n",
       "      <th>DiabetesPedigreeFunction</th>\n",
       "      <th>Age</th>\n",
       "      <th>Outcome</th>\n",
       "    </tr>\n",
       "  </thead>\n",
       "  <tbody>\n",
       "    <tr>\n",
       "      <th>0</th>\n",
       "      <td>6</td>\n",
       "      <td>148</td>\n",
       "      <td>72</td>\n",
       "      <td>35</td>\n",
       "      <td>0</td>\n",
       "      <td>33.6</td>\n",
       "      <td>0.627</td>\n",
       "      <td>50</td>\n",
       "      <td>1</td>\n",
       "    </tr>\n",
       "    <tr>\n",
       "      <th>1</th>\n",
       "      <td>1</td>\n",
       "      <td>85</td>\n",
       "      <td>66</td>\n",
       "      <td>29</td>\n",
       "      <td>0</td>\n",
       "      <td>26.6</td>\n",
       "      <td>0.351</td>\n",
       "      <td>31</td>\n",
       "      <td>0</td>\n",
       "    </tr>\n",
       "    <tr>\n",
       "      <th>2</th>\n",
       "      <td>8</td>\n",
       "      <td>183</td>\n",
       "      <td>64</td>\n",
       "      <td>0</td>\n",
       "      <td>0</td>\n",
       "      <td>23.3</td>\n",
       "      <td>0.672</td>\n",
       "      <td>32</td>\n",
       "      <td>1</td>\n",
       "    </tr>\n",
       "    <tr>\n",
       "      <th>3</th>\n",
       "      <td>1</td>\n",
       "      <td>89</td>\n",
       "      <td>66</td>\n",
       "      <td>23</td>\n",
       "      <td>94</td>\n",
       "      <td>28.1</td>\n",
       "      <td>0.167</td>\n",
       "      <td>21</td>\n",
       "      <td>0</td>\n",
       "    </tr>\n",
       "    <tr>\n",
       "      <th>4</th>\n",
       "      <td>0</td>\n",
       "      <td>137</td>\n",
       "      <td>40</td>\n",
       "      <td>35</td>\n",
       "      <td>168</td>\n",
       "      <td>43.1</td>\n",
       "      <td>2.288</td>\n",
       "      <td>33</td>\n",
       "      <td>1</td>\n",
       "    </tr>\n",
       "  </tbody>\n",
       "</table>\n",
       "</div>"
      ],
      "text/plain": [
       "   Pregnancies  Glucose  BloodPressure  SkinThickness  Insulin   BMI  \\\n",
       "0            6      148             72             35        0  33.6   \n",
       "1            1       85             66             29        0  26.6   \n",
       "2            8      183             64              0        0  23.3   \n",
       "3            1       89             66             23       94  28.1   \n",
       "4            0      137             40             35      168  43.1   \n",
       "\n",
       "   DiabetesPedigreeFunction  Age  Outcome  \n",
       "0                     0.627   50        1  \n",
       "1                     0.351   31        0  \n",
       "2                     0.672   32        1  \n",
       "3                     0.167   21        0  \n",
       "4                     2.288   33        1  "
      ]
     },
     "execution_count": 17,
     "metadata": {},
     "output_type": "execute_result"
    }
   ],
   "source": [
    "# Load Data\n",
    "dbt = pd.read_csv('data/diabetes.csv')\n",
    "\n",
    "dbt.head()"
   ]
  },
  {
   "cell_type": "code",
   "execution_count": 18,
   "metadata": {},
   "outputs": [
    {
     "data": {
      "text/plain": [
       "Index(['Pregnancies', 'Glucose', 'BloodPressure', 'SkinThickness', 'Insulin',\n",
       "       'BMI', 'DiabetesPedigreeFunction', 'Age', 'Outcome'],\n",
       "      dtype='object')"
      ]
     },
     "execution_count": 18,
     "metadata": {},
     "output_type": "execute_result"
    }
   ],
   "source": [
    "# Cek nama kolom\n",
    "dbt.columns"
   ]
  },
  {
   "cell_type": "code",
   "execution_count": 19,
   "metadata": {},
   "outputs": [
    {
     "data": {
      "text/plain": [
       "Pregnancies                 0\n",
       "Glucose                     0\n",
       "BloodPressure               0\n",
       "SkinThickness               0\n",
       "Insulin                     0\n",
       "BMI                         0\n",
       "DiabetesPedigreeFunction    0\n",
       "Age                         0\n",
       "Outcome                     0\n",
       "dtype: int64"
      ]
     },
     "execution_count": 19,
     "metadata": {},
     "output_type": "execute_result"
    }
   ],
   "source": [
    "# Cek kolom null\n",
    "dbt.isnull().sum()"
   ]
  },
  {
   "cell_type": "code",
   "execution_count": 20,
   "metadata": {},
   "outputs": [
    {
     "name": "stdout",
     "output_type": "stream",
     "text": [
      "============================================\n",
      "Pregnancies ==> Missing zeros : 111\n",
      "============================================\n",
      "Glucose ==> Missing zeros : 5\n",
      "============================================\n",
      "BloodPressure ==> Missing zeros : 35\n",
      "============================================\n",
      "SkinThickness ==> Missing zeros : 227\n",
      "============================================\n",
      "Insulin ==> Missing zeros : 374\n",
      "============================================\n",
      "BMI ==> Missing zeros : 11\n",
      "============================================\n",
      "DiabetesPedigreeFunction ==> Missing zeros : 0\n",
      "============================================\n",
      "Age ==> Missing zeros : 0\n"
     ]
    }
   ],
   "source": [
    "# Pada kasus ini, agak tidak masuk akal jika beberapa parameter bernilai 0\n",
    "# sebagai contoh adalah nilai 'Glucose', 'BloodPlessure' ataupun 'Insulin'.\n",
    "# Sekecil apapun nilainya, setiap manusia yang hidup pasti miliki nilai-nilai tersebut\n",
    "\n",
    "# Kita akan manipulasi nilai yang 0 dengan melakukan 'imputasi' atau mengganti nilainya dengan nilai sintetis\n",
    "# Pada kasus ini, kita akan menggunakan nilai mean\n",
    "\n",
    "# Cek kolom neng nilai 0\n",
    "feature_columns = ['Pregnancies', 'Glucose', 'BloodPressure', 'SkinThickness', 'Insulin', 'BMI', 'DiabetesPedigreeFunction', 'Age']\n",
    "for column in feature_columns:\n",
    "    print(\"============================================\")\n",
    "    print(f\"{column} ==> Missing zeros : {len(dbt.loc[dbt[column] == 0])}\")"
   ]
  },
  {
   "cell_type": "code",
   "execution_count": 21,
   "metadata": {},
   "outputs": [],
   "source": [
    "# Mengimpor SimpleImputer dari scikit-learn untuk melakukan imputasi\n",
    "from sklearn.impute import SimpleImputer\n",
    "\n",
    "# Membuat objek SimpleImputer dengan parameter yang sesuai\n",
    "fill_values = SimpleImputer(missing_values=0, strategy=\"mean\", copy=False)\n",
    "\n",
    "# Menggunakan SimpleImputer untuk mengganti nilai-nilai 0 dengan nilai rata-rata dalam kolom yang ditentukan\n",
    "dbt[feature_columns] = fill_values.fit_transform(dbt[feature_columns])\n"
   ]
  },
  {
   "cell_type": "markdown",
   "metadata": {},
   "source": [
    "Split data training dan testing"
   ]
  },
  {
   "cell_type": "code",
   "execution_count": 22,
   "metadata": {},
   "outputs": [],
   "source": [
    "# Memilih fitur-fitur dari dataset yang akan digunakan sebagai matriks fitur 'X'\n",
    "X = dbt[feature_columns]\n",
    "\n",
    "# Memilih kolom 'Outcome' dari dataset sebagai label target 'y'\n",
    "y = dbt.Outcome\n",
    "\n",
    "# Membagi data menjadi data pelatihan dan data pengujian\n",
    "# Data pengujian akan terdiri dari 30% dari data awal, dan hasilnya akan digenerate dengan seed 42\n",
    "X_train, X_test, y_train, y_test = train_test_split(X, y, test_size=0.3, random_state=42)"
   ]
  },
  {
   "cell_type": "markdown",
   "metadata": {},
   "source": [
    "Training dengan GaussianNB\n",
    "\n",
    "#### Standarisasi Fitur"
   ]
  },
  {
   "cell_type": "code",
   "execution_count": 23,
   "metadata": {},
   "outputs": [],
   "source": [
    "# Mengimpor StandardScaler dari scikit-learn untuk melakukan standarisasi data\n",
    "from sklearn.preprocessing import StandardScaler\n",
    "\n",
    "# Membuat objek StandardScaler\n",
    "sc = StandardScaler()\n",
    "\n",
    "# Melakukan standarisasi pada data pelatihan 'X_train'\n",
    "X_train_std = sc.fit_transform(X_train)\n",
    "\n",
    "# Melakukan standarisasi pada data pengujian 'X_test'\n",
    "X_test_std = sc.transform(X_test)"
   ]
  },
  {
   "cell_type": "markdown",
   "metadata": {},
   "source": [
    "#### Training dan Evaluasi"
   ]
  },
  {
   "cell_type": "code",
   "execution_count": 24,
   "metadata": {},
   "outputs": [
    {
     "name": "stdout",
     "output_type": "stream",
     "text": [
      "Test set accuracy: 0.74\n",
      "Test set accuracy: 0.7359307359307359\n"
     ]
    }
   ],
   "source": [
    "# Membuat objek GaussianNB\n",
    "gnb_std = GaussianNB()\n",
    "\n",
    "# Melatih model GaussianNB menggunakan data pelatihan yang telah di-standarisasi (X_train_std dan y_train)\n",
    "gnb_std.fit(X_train_std, y_train)\n",
    "\n",
    "# Menggunakan model yang telah dilatih untuk memprediksi label pada data pengujian yang telah di-standarisasi (X_test_std)\n",
    "y_pred_gnb = gnb_std.predict(X_test_std)\n",
    "\n",
    "# Menghitung akurasi model dengan membandingkan hasil prediksi (y_pred_gnb) dengan label sebenarnya (y_test) menggunakan fungsi accuracy_score\n",
    "acc_gnb = accuracy_score(y_test, y_pred_gnb)\n",
    "\n",
    "# Mencetak hasil akurasi pada set pengujian dalam format numerik dengan dua desimal dan dalam format string\n",
    "print(\"Test set accuracy: {:.2f}\".format(acc_gnb))\n",
    "print(f\"Test set accuracy: {acc_gnb}\")"
   ]
  },
  {
   "cell_type": "markdown",
   "metadata": {},
   "source": [
    "Training dengan SVM Linier"
   ]
  },
  {
   "cell_type": "code",
   "execution_count": 25,
   "metadata": {},
   "outputs": [
    {
     "name": "stdout",
     "output_type": "stream",
     "text": [
      "Test set accuracy: 0.74\n",
      "Test set accuracy: 0.7402597402597403\n"
     ]
    }
   ],
   "source": [
    "# Membuat objek SVC (Support Vector Classifier) dengan kernel linier\n",
    "svm_lin = SVC(kernel='linear')\n",
    "\n",
    "# Melatih model SVC dengan kernel linier menggunakan data pelatihan yang telah di-standarisasi (X_train_std dan y_train)\n",
    "svm_lin.fit(X_train_std, y_train)\n",
    "\n",
    "# Menggunakan model yang telah dilatih untuk memprediksi label pada data pengujian yang telah di-standarisasi (X_test_std)\n",
    "y_pred_svm_lin = svm_lin.predict(X_test_std)\n",
    "\n",
    "# Menghitung akurasi model dengan membandingkan hasil prediksi (y_pred_svm_lin) dengan label sebenarnya (y_test) menggunakan fungsi accuracy_score\n",
    "acc_svm_lin = accuracy_score(y_test, y_pred_svm_lin)\n",
    "\n",
    "# Mencetak hasil akurasi model pada set pengujian dalam format numerik dengan dua desimal dan dalam format string\n",
    "print(\"Test set accuracy: {:.2f}\".format(acc_svm_lin))\n",
    "print(f\"Test set accuracy: {acc_svm_lin}\")"
   ]
  },
  {
   "cell_type": "markdown",
   "metadata": {},
   "source": [
    "Training dengan SVM RBF"
   ]
  },
  {
   "cell_type": "code",
   "execution_count": 26,
   "metadata": {},
   "outputs": [
    {
     "name": "stdout",
     "output_type": "stream",
     "text": [
      "Test set accuracy: 0.72\n",
      "Test set accuracy: 0.7229437229437229\n"
     ]
    }
   ],
   "source": [
    "# Membuat objek SVC (Support Vector Classifier) dengan kernel RBF (Radial Basis Function)\n",
    "svm_rbf = SVC(kernel='rbf')\n",
    "\n",
    "# Melatih model SVC dengan kernel RBF menggunakan data pelatihan yang telah di-standarisasi (X_train_std dan y_train)\n",
    "svm_rbf.fit(X_train_std, y_train)\n",
    "\n",
    "# Menggunakan model yang telah dilatih untuk memprediksi label pada data pengujian yang telah di-standarisasi (X_test_std)\n",
    "y_pred_svm_rbf = svm_rbf.predict(X_test_std)\n",
    "\n",
    "# Menghitung akurasi model dengan membandingkan hasil prediksi (y_pred_svm_rbf) dengan label sebenarnya (y_test) menggunakan fungsi accuracy_score\n",
    "acc_svm_rbf = accuracy_score(y_test, y_pred_svm_rbf)\n",
    "\n",
    "# Mencetak hasil akurasi model pada set pengujian dalam format numerik dengan dua desimal dan dalam format string\n",
    "print(\"Test set accuracy: {:.2f}\".format(acc_svm_rbf))\n",
    "print(f\"Test set accuracy: {acc_svm_rbf}\")"
   ]
  },
  {
   "cell_type": "markdown",
   "metadata": {},
   "source": [
    "Training dengan Voting"
   ]
  },
  {
   "cell_type": "code",
   "execution_count": 27,
   "metadata": {},
   "outputs": [
    {
     "name": "stdout",
     "output_type": "stream",
     "text": [
      "Voting Hard\n",
      "Test set accuracy: 0.74\n",
      "Test set accuracy: 0.7402597402597403\n"
     ]
    }
   ],
   "source": [
    "# Membuat tiga estimators (model) yang berbeda\n",
    "clf1 = GaussianNB()  # Gaussian Naive Bayes\n",
    "clf2 = SVC(kernel='linear')  # SVM dengan kernel linier\n",
    "clf3 = SVC(kernel='rbf', probability=True)  # SVM dengan kernel RBF\n",
    "\n",
    "# Membuat model Voting Classifier dengan estimators yang telah didefinisikan, menggunakan metode \"hard\" voting\n",
    "voting = VotingClassifier(estimators=[('GaussianNB', clf1), ('SVM-LIN', clf2), ('SVM-RBF', clf3)], voting='hard')\n",
    "\n",
    "# Melatih model Voting Classifier menggunakan data pelatihan yang telah di-standarisasi (X_train_std dan y_train)\n",
    "voting.fit(X_train_std, y_train)\n",
    "\n",
    "# Menggunakan model yang telah dilatih untuk memprediksi label pada data pengujian yang telah di-standarisasi (X_test_std)\n",
    "y_pred_vt1 = voting.predict(X_test_std)\n",
    "\n",
    "# Menghitung akurasi model dengan membandingkan hasil prediksi (y_pred_vt1) dengan label sebenarnya (y_test) menggunakan fungsi accuracy_score\n",
    "acc_vt1 = accuracy_score(y_test, y_pred_vt1)\n",
    "\n",
    "# Mencetak hasil akurasi model Voting Classifier pada set pengujian dalam format numerik dengan dua desimal dan dalam format string\n",
    "print('Voting Hard')\n",
    "print(\"Test set accuracy: {:.2f}\".format(acc_vt1))\n",
    "print(f\"Test set accuracy: {acc_vt1}\")"
   ]
  },
  {
   "cell_type": "markdown",
   "metadata": {},
   "source": [
    "## TUGAS\n",
    "\n",
    "### Tugas 1\n",
    "Terdapat dataset mushroom. Berdasarkan dataset yang tersebut, bandingkan peforma antara algoritma Decision Tree dan RandomForest. Gunakan tunning hyperparameter untuk mendapatkan parameter dan akurasi yang terbaik."
   ]
  },
  {
   "cell_type": "code",
   "execution_count": 5,
   "metadata": {},
   "outputs": [
    {
     "data": {
      "text/html": [
       "<div>\n",
       "<style scoped>\n",
       "    .dataframe tbody tr th:only-of-type {\n",
       "        vertical-align: middle;\n",
       "    }\n",
       "\n",
       "    .dataframe tbody tr th {\n",
       "        vertical-align: top;\n",
       "    }\n",
       "\n",
       "    .dataframe thead th {\n",
       "        text-align: right;\n",
       "    }\n",
       "</style>\n",
       "<table border=\"1\" class=\"dataframe\">\n",
       "  <thead>\n",
       "    <tr style=\"text-align: right;\">\n",
       "      <th></th>\n",
       "      <th>class</th>\n",
       "      <th>cap-shape</th>\n",
       "      <th>cap-surface</th>\n",
       "      <th>cap-color</th>\n",
       "      <th>bruises</th>\n",
       "      <th>odor</th>\n",
       "      <th>gill-attachment</th>\n",
       "      <th>gill-spacing</th>\n",
       "      <th>gill-size</th>\n",
       "      <th>gill-color</th>\n",
       "      <th>...</th>\n",
       "      <th>stalk-surface-below-ring</th>\n",
       "      <th>stalk-color-above-ring</th>\n",
       "      <th>stalk-color-below-ring</th>\n",
       "      <th>veil-type</th>\n",
       "      <th>veil-color</th>\n",
       "      <th>ring-number</th>\n",
       "      <th>ring-type</th>\n",
       "      <th>spore-print-color</th>\n",
       "      <th>population</th>\n",
       "      <th>habitat</th>\n",
       "    </tr>\n",
       "  </thead>\n",
       "  <tbody>\n",
       "    <tr>\n",
       "      <th>0</th>\n",
       "      <td>p</td>\n",
       "      <td>x</td>\n",
       "      <td>s</td>\n",
       "      <td>n</td>\n",
       "      <td>t</td>\n",
       "      <td>p</td>\n",
       "      <td>f</td>\n",
       "      <td>c</td>\n",
       "      <td>n</td>\n",
       "      <td>k</td>\n",
       "      <td>...</td>\n",
       "      <td>s</td>\n",
       "      <td>w</td>\n",
       "      <td>w</td>\n",
       "      <td>p</td>\n",
       "      <td>w</td>\n",
       "      <td>o</td>\n",
       "      <td>p</td>\n",
       "      <td>k</td>\n",
       "      <td>s</td>\n",
       "      <td>u</td>\n",
       "    </tr>\n",
       "    <tr>\n",
       "      <th>1</th>\n",
       "      <td>e</td>\n",
       "      <td>x</td>\n",
       "      <td>s</td>\n",
       "      <td>y</td>\n",
       "      <td>t</td>\n",
       "      <td>a</td>\n",
       "      <td>f</td>\n",
       "      <td>c</td>\n",
       "      <td>b</td>\n",
       "      <td>k</td>\n",
       "      <td>...</td>\n",
       "      <td>s</td>\n",
       "      <td>w</td>\n",
       "      <td>w</td>\n",
       "      <td>p</td>\n",
       "      <td>w</td>\n",
       "      <td>o</td>\n",
       "      <td>p</td>\n",
       "      <td>n</td>\n",
       "      <td>n</td>\n",
       "      <td>g</td>\n",
       "    </tr>\n",
       "    <tr>\n",
       "      <th>2</th>\n",
       "      <td>e</td>\n",
       "      <td>b</td>\n",
       "      <td>s</td>\n",
       "      <td>w</td>\n",
       "      <td>t</td>\n",
       "      <td>l</td>\n",
       "      <td>f</td>\n",
       "      <td>c</td>\n",
       "      <td>b</td>\n",
       "      <td>n</td>\n",
       "      <td>...</td>\n",
       "      <td>s</td>\n",
       "      <td>w</td>\n",
       "      <td>w</td>\n",
       "      <td>p</td>\n",
       "      <td>w</td>\n",
       "      <td>o</td>\n",
       "      <td>p</td>\n",
       "      <td>n</td>\n",
       "      <td>n</td>\n",
       "      <td>m</td>\n",
       "    </tr>\n",
       "    <tr>\n",
       "      <th>3</th>\n",
       "      <td>p</td>\n",
       "      <td>x</td>\n",
       "      <td>y</td>\n",
       "      <td>w</td>\n",
       "      <td>t</td>\n",
       "      <td>p</td>\n",
       "      <td>f</td>\n",
       "      <td>c</td>\n",
       "      <td>n</td>\n",
       "      <td>n</td>\n",
       "      <td>...</td>\n",
       "      <td>s</td>\n",
       "      <td>w</td>\n",
       "      <td>w</td>\n",
       "      <td>p</td>\n",
       "      <td>w</td>\n",
       "      <td>o</td>\n",
       "      <td>p</td>\n",
       "      <td>k</td>\n",
       "      <td>s</td>\n",
       "      <td>u</td>\n",
       "    </tr>\n",
       "    <tr>\n",
       "      <th>4</th>\n",
       "      <td>e</td>\n",
       "      <td>x</td>\n",
       "      <td>s</td>\n",
       "      <td>g</td>\n",
       "      <td>f</td>\n",
       "      <td>n</td>\n",
       "      <td>f</td>\n",
       "      <td>w</td>\n",
       "      <td>b</td>\n",
       "      <td>k</td>\n",
       "      <td>...</td>\n",
       "      <td>s</td>\n",
       "      <td>w</td>\n",
       "      <td>w</td>\n",
       "      <td>p</td>\n",
       "      <td>w</td>\n",
       "      <td>o</td>\n",
       "      <td>e</td>\n",
       "      <td>n</td>\n",
       "      <td>a</td>\n",
       "      <td>g</td>\n",
       "    </tr>\n",
       "  </tbody>\n",
       "</table>\n",
       "<p>5 rows × 23 columns</p>\n",
       "</div>"
      ],
      "text/plain": [
       "  class cap-shape cap-surface cap-color bruises odor gill-attachment  \\\n",
       "0     p         x           s         n       t    p               f   \n",
       "1     e         x           s         y       t    a               f   \n",
       "2     e         b           s         w       t    l               f   \n",
       "3     p         x           y         w       t    p               f   \n",
       "4     e         x           s         g       f    n               f   \n",
       "\n",
       "  gill-spacing gill-size gill-color  ... stalk-surface-below-ring  \\\n",
       "0            c         n          k  ...                        s   \n",
       "1            c         b          k  ...                        s   \n",
       "2            c         b          n  ...                        s   \n",
       "3            c         n          n  ...                        s   \n",
       "4            w         b          k  ...                        s   \n",
       "\n",
       "  stalk-color-above-ring stalk-color-below-ring veil-type veil-color  \\\n",
       "0                      w                      w         p          w   \n",
       "1                      w                      w         p          w   \n",
       "2                      w                      w         p          w   \n",
       "3                      w                      w         p          w   \n",
       "4                      w                      w         p          w   \n",
       "\n",
       "  ring-number ring-type spore-print-color population habitat  \n",
       "0           o         p                 k          s       u  \n",
       "1           o         p                 n          n       g  \n",
       "2           o         p                 n          n       m  \n",
       "3           o         p                 k          s       u  \n",
       "4           o         e                 n          a       g  \n",
       "\n",
       "[5 rows x 23 columns]"
      ]
     },
     "execution_count": 5,
     "metadata": {},
     "output_type": "execute_result"
    }
   ],
   "source": [
    "# Persiapan data\n",
    "df = pd.read_csv('data/mushrooms.csv')\n",
    "\n",
    "df.head()"
   ]
  },
  {
   "cell_type": "code",
   "execution_count": 6,
   "metadata": {},
   "outputs": [
    {
     "data": {
      "text/plain": [
       "class                       0\n",
       "cap-shape                   0\n",
       "cap-surface                 0\n",
       "cap-color                   0\n",
       "bruises                     0\n",
       "odor                        0\n",
       "gill-attachment             0\n",
       "gill-spacing                0\n",
       "gill-size                   0\n",
       "gill-color                  0\n",
       "stalk-shape                 0\n",
       "stalk-root                  0\n",
       "stalk-surface-above-ring    0\n",
       "stalk-surface-below-ring    0\n",
       "stalk-color-above-ring      0\n",
       "stalk-color-below-ring      0\n",
       "veil-type                   0\n",
       "veil-color                  0\n",
       "ring-number                 0\n",
       "ring-type                   0\n",
       "spore-print-color           0\n",
       "population                  0\n",
       "habitat                     0\n",
       "dtype: int64"
      ]
     },
     "execution_count": 6,
     "metadata": {},
     "output_type": "execute_result"
    }
   ],
   "source": [
    "# Cek kolom null\n",
    "df.isnull().sum()"
   ]
  },
  {
   "cell_type": "code",
   "execution_count": 8,
   "metadata": {},
   "outputs": [
    {
     "data": {
      "text/html": [
       "<div>\n",
       "<style scoped>\n",
       "    .dataframe tbody tr th:only-of-type {\n",
       "        vertical-align: middle;\n",
       "    }\n",
       "\n",
       "    .dataframe tbody tr th {\n",
       "        vertical-align: top;\n",
       "    }\n",
       "\n",
       "    .dataframe thead th {\n",
       "        text-align: right;\n",
       "    }\n",
       "</style>\n",
       "<table border=\"1\" class=\"dataframe\">\n",
       "  <thead>\n",
       "    <tr style=\"text-align: right;\">\n",
       "      <th></th>\n",
       "      <th>class</th>\n",
       "      <th>cap-shape</th>\n",
       "      <th>cap-surface</th>\n",
       "      <th>cap-color</th>\n",
       "      <th>bruises</th>\n",
       "      <th>odor</th>\n",
       "      <th>gill-attachment</th>\n",
       "      <th>gill-spacing</th>\n",
       "      <th>gill-size</th>\n",
       "      <th>gill-color</th>\n",
       "      <th>...</th>\n",
       "      <th>stalk-surface-below-ring</th>\n",
       "      <th>stalk-color-above-ring</th>\n",
       "      <th>stalk-color-below-ring</th>\n",
       "      <th>veil-type</th>\n",
       "      <th>veil-color</th>\n",
       "      <th>ring-number</th>\n",
       "      <th>ring-type</th>\n",
       "      <th>spore-print-color</th>\n",
       "      <th>population</th>\n",
       "      <th>habitat</th>\n",
       "    </tr>\n",
       "  </thead>\n",
       "  <tbody>\n",
       "    <tr>\n",
       "      <th>0</th>\n",
       "      <td>1</td>\n",
       "      <td>5</td>\n",
       "      <td>2</td>\n",
       "      <td>4</td>\n",
       "      <td>1</td>\n",
       "      <td>6</td>\n",
       "      <td>1</td>\n",
       "      <td>0</td>\n",
       "      <td>1</td>\n",
       "      <td>4</td>\n",
       "      <td>...</td>\n",
       "      <td>2</td>\n",
       "      <td>7</td>\n",
       "      <td>7</td>\n",
       "      <td>0</td>\n",
       "      <td>2</td>\n",
       "      <td>1</td>\n",
       "      <td>4</td>\n",
       "      <td>2</td>\n",
       "      <td>3</td>\n",
       "      <td>5</td>\n",
       "    </tr>\n",
       "    <tr>\n",
       "      <th>1</th>\n",
       "      <td>0</td>\n",
       "      <td>5</td>\n",
       "      <td>2</td>\n",
       "      <td>9</td>\n",
       "      <td>1</td>\n",
       "      <td>0</td>\n",
       "      <td>1</td>\n",
       "      <td>0</td>\n",
       "      <td>0</td>\n",
       "      <td>4</td>\n",
       "      <td>...</td>\n",
       "      <td>2</td>\n",
       "      <td>7</td>\n",
       "      <td>7</td>\n",
       "      <td>0</td>\n",
       "      <td>2</td>\n",
       "      <td>1</td>\n",
       "      <td>4</td>\n",
       "      <td>3</td>\n",
       "      <td>2</td>\n",
       "      <td>1</td>\n",
       "    </tr>\n",
       "    <tr>\n",
       "      <th>2</th>\n",
       "      <td>0</td>\n",
       "      <td>0</td>\n",
       "      <td>2</td>\n",
       "      <td>8</td>\n",
       "      <td>1</td>\n",
       "      <td>3</td>\n",
       "      <td>1</td>\n",
       "      <td>0</td>\n",
       "      <td>0</td>\n",
       "      <td>5</td>\n",
       "      <td>...</td>\n",
       "      <td>2</td>\n",
       "      <td>7</td>\n",
       "      <td>7</td>\n",
       "      <td>0</td>\n",
       "      <td>2</td>\n",
       "      <td>1</td>\n",
       "      <td>4</td>\n",
       "      <td>3</td>\n",
       "      <td>2</td>\n",
       "      <td>3</td>\n",
       "    </tr>\n",
       "    <tr>\n",
       "      <th>3</th>\n",
       "      <td>1</td>\n",
       "      <td>5</td>\n",
       "      <td>3</td>\n",
       "      <td>8</td>\n",
       "      <td>1</td>\n",
       "      <td>6</td>\n",
       "      <td>1</td>\n",
       "      <td>0</td>\n",
       "      <td>1</td>\n",
       "      <td>5</td>\n",
       "      <td>...</td>\n",
       "      <td>2</td>\n",
       "      <td>7</td>\n",
       "      <td>7</td>\n",
       "      <td>0</td>\n",
       "      <td>2</td>\n",
       "      <td>1</td>\n",
       "      <td>4</td>\n",
       "      <td>2</td>\n",
       "      <td>3</td>\n",
       "      <td>5</td>\n",
       "    </tr>\n",
       "    <tr>\n",
       "      <th>4</th>\n",
       "      <td>0</td>\n",
       "      <td>5</td>\n",
       "      <td>2</td>\n",
       "      <td>3</td>\n",
       "      <td>0</td>\n",
       "      <td>5</td>\n",
       "      <td>1</td>\n",
       "      <td>1</td>\n",
       "      <td>0</td>\n",
       "      <td>4</td>\n",
       "      <td>...</td>\n",
       "      <td>2</td>\n",
       "      <td>7</td>\n",
       "      <td>7</td>\n",
       "      <td>0</td>\n",
       "      <td>2</td>\n",
       "      <td>1</td>\n",
       "      <td>0</td>\n",
       "      <td>3</td>\n",
       "      <td>0</td>\n",
       "      <td>1</td>\n",
       "    </tr>\n",
       "  </tbody>\n",
       "</table>\n",
       "<p>5 rows × 23 columns</p>\n",
       "</div>"
      ],
      "text/plain": [
       "   class  cap-shape  cap-surface  cap-color  bruises  odor  gill-attachment  \\\n",
       "0      1          5            2          4        1     6                1   \n",
       "1      0          5            2          9        1     0                1   \n",
       "2      0          0            2          8        1     3                1   \n",
       "3      1          5            3          8        1     6                1   \n",
       "4      0          5            2          3        0     5                1   \n",
       "\n",
       "   gill-spacing  gill-size  gill-color  ...  stalk-surface-below-ring  \\\n",
       "0             0          1           4  ...                         2   \n",
       "1             0          0           4  ...                         2   \n",
       "2             0          0           5  ...                         2   \n",
       "3             0          1           5  ...                         2   \n",
       "4             1          0           4  ...                         2   \n",
       "\n",
       "   stalk-color-above-ring  stalk-color-below-ring  veil-type  veil-color  \\\n",
       "0                       7                       7          0           2   \n",
       "1                       7                       7          0           2   \n",
       "2                       7                       7          0           2   \n",
       "3                       7                       7          0           2   \n",
       "4                       7                       7          0           2   \n",
       "\n",
       "   ring-number  ring-type  spore-print-color  population  habitat  \n",
       "0            1          4                  2           3        5  \n",
       "1            1          4                  3           2        1  \n",
       "2            1          4                  3           2        3  \n",
       "3            1          4                  2           3        5  \n",
       "4            1          0                  3           0        1  \n",
       "\n",
       "[5 rows x 23 columns]"
      ]
     },
     "execution_count": 8,
     "metadata": {},
     "output_type": "execute_result"
    }
   ],
   "source": [
    "from sklearn.preprocessing import LabelEncoder\n",
    "\n",
    "label_encoder = LabelEncoder()\n",
    "\n",
    "# Loop melalui semua kolom dalam DataFrame\n",
    "for column in df.columns:\n",
    "    # Periksa apakah tipe data kolom adalah objek (data kategorikal)\n",
    "    if df[column].dtype == 'object':\n",
    "        df[column] = label_encoder.fit_transform(df[column])\n",
    "        \n",
    "# Cek data yang sudah diencode\n",
    "df.head()"
   ]
  },
  {
   "cell_type": "code",
   "execution_count": 9,
   "metadata": {},
   "outputs": [
    {
     "data": {
      "text/plain": [
       "(8124, 21)"
      ]
     },
     "execution_count": 9,
     "metadata": {},
     "output_type": "execute_result"
    }
   ],
   "source": [
    "# Seleksi fitur\n",
    "X = df.iloc[:,2:]\n",
    "y = df['class']\n",
    "\n",
    "# Cek jumlah fitur dan instance\n",
    "X.shape"
   ]
  },
  {
   "cell_type": "markdown",
   "metadata": {},
   "source": [
    "### Decision Tree"
   ]
  },
  {
   "cell_type": "code",
   "execution_count": 10,
   "metadata": {},
   "outputs": [],
   "source": [
    "from sklearn.model_selection import train_test_split\n",
    "\n",
    "X_train, X_test, y_train, y_test = train_test_split(X, y, test_size=0.2, random_state=1)"
   ]
  },
  {
   "cell_type": "code",
   "execution_count": 11,
   "metadata": {},
   "outputs": [
    {
     "name": "stdout",
     "output_type": "stream",
     "text": [
      "Fitting 5 folds for each of 36 candidates, totalling 180 fits\n",
      "Accuracy         : 100.0 %\n",
      "Test set accuracy: 1.00\n",
      "Test set accuracy: 1.0\n"
     ]
    }
   ],
   "source": [
    "from sklearn.model_selection import GridSearchCV\n",
    "\n",
    "dt = DecisionTreeClassifier()\n",
    "\n",
    "params = {'max_depth': [None, 10, 20, 30],\n",
    "          'min_samples_split': [2, 5, 10],\n",
    "          'min_samples_leaf': [1, 2, 4]}\n",
    "\n",
    "GS = GridSearchCV(estimator=dt,param_grid=params,cv=5,n_jobs=-1, verbose=True, scoring='accuracy')\n",
    "\n",
    "# Training/fit\n",
    "GS.fit(X_train, y_train)\n",
    "\n",
    "# Mengambil model Decision Tree terbaik yang telah dihasilkan oleh proses Grid Search.\n",
    "best_dtree = GS.best_estimator_\n",
    "\n",
    "# Memprediksi label set test\n",
    "y_pred_dt = best_dtree.predict(X_test)\n",
    "\n",
    "# Menghitung set accuracy\n",
    "acc_dt = accuracy_score(y_test, y_pred_dt)\n",
    "print(\"Accuracy         : {} %\".format(round((acc_dt*100),2)))\n",
    "print(\"Test set accuracy: {:.2f}\".format(acc_dt))\n",
    "print(f\"Test set accuracy: {acc_dt}\")"
   ]
  },
  {
   "cell_type": "markdown",
   "metadata": {},
   "source": [
    "### Random Forest"
   ]
  },
  {
   "cell_type": "code",
   "execution_count": 12,
   "metadata": {},
   "outputs": [
    {
     "name": "stdout",
     "output_type": "stream",
     "text": [
      "Accuracy         : 100.0 %\n",
      "Test set accuracy: 1.00\n",
      "Test set accuracy: 1.0\n"
     ]
    }
   ],
   "source": [
    "rf = RandomForestClassifier(n_estimators=10, random_state=1, n_jobs=-1)\n",
    "\n",
    "# Sesuaikan dt ke set training\n",
    "rf.fit(X_train, y_train)\n",
    "\n",
    "# Memprediksi label set test\n",
    "y_pred_rf = rf.predict(X_test)\n",
    "\n",
    "#  menghitung set accuracy\n",
    "acc_rf = accuracy_score(y_test, y_pred_rf)\n",
    "print(\"Accuracy         : {} %\".format(round((acc_rf*100),2)))\n",
    "print(\"Test set accuracy: {:.2f}\".format(acc_rf))\n",
    "print(f\"Test set accuracy: {acc_rf}\")"
   ]
  },
  {
   "cell_type": "markdown",
   "metadata": {},
   "source": [
    "### Ada Boost"
   ]
  },
  {
   "cell_type": "code",
   "execution_count": 16,
   "metadata": {},
   "outputs": [],
   "source": [
    "from sklearn.ensemble import AdaBoostClassifier\n",
    "\n",
    "label_encoder = LabelEncoder()\n",
    "\n",
    "# Loop melalui semua kolom dalam DataFrame\n",
    "for column in df.columns:\n",
    "    # Periksa apakah tipe data kolom adalah objek (data kategorikal)\n",
    "    if df[column].dtype == 'object':\n",
    "        df[column] = label_encoder.fit_transform(df[column])"
   ]
  },
  {
   "cell_type": "code",
   "execution_count": 17,
   "metadata": {},
   "outputs": [
    {
     "name": "stdout",
     "output_type": "stream",
     "text": [
      "Test set accuracy: 0.84\n",
      "Test set accuracy: 0.8449230769230769\n"
     ]
    }
   ],
   "source": [
    "ada = AdaBoostClassifier(n_estimators=2)\n",
    "\n",
    "# Sesuaikan dt ke set training\n",
    "ada.fit(X_train, y_train)\n",
    "\n",
    "# Memprediksi label set test\n",
    "y_pred_ada = ada.predict(X_test)\n",
    "\n",
    "# Menghitung set accuracy\n",
    "acc_ada = accuracy_score(y_test, y_pred_ada)\n",
    "print(\"Test set accuracy: {:.2f}\".format(acc_ada))\n",
    "print(f\"Test set accuracy: {acc_ada}\")"
   ]
  },
  {
   "cell_type": "markdown",
   "metadata": {},
   "source": [
    "### Tugas 3\n",
    "Dengan menggunakan dataset diabetes, buatlah ensemble voting dengan algoritma\n",
    "\n",
    "- Logistic Regression\n",
    "- SVM kernel polynomial\n",
    "- Decission Tree"
   ]
  },
  {
   "cell_type": "code",
   "execution_count": 18,
   "metadata": {},
   "outputs": [
    {
     "data": {
      "text/html": [
       "<div>\n",
       "<style scoped>\n",
       "    .dataframe tbody tr th:only-of-type {\n",
       "        vertical-align: middle;\n",
       "    }\n",
       "\n",
       "    .dataframe tbody tr th {\n",
       "        vertical-align: top;\n",
       "    }\n",
       "\n",
       "    .dataframe thead th {\n",
       "        text-align: right;\n",
       "    }\n",
       "</style>\n",
       "<table border=\"1\" class=\"dataframe\">\n",
       "  <thead>\n",
       "    <tr style=\"text-align: right;\">\n",
       "      <th></th>\n",
       "      <th>Pregnancies</th>\n",
       "      <th>Glucose</th>\n",
       "      <th>BloodPressure</th>\n",
       "      <th>SkinThickness</th>\n",
       "      <th>Insulin</th>\n",
       "      <th>BMI</th>\n",
       "      <th>DiabetesPedigreeFunction</th>\n",
       "      <th>Age</th>\n",
       "      <th>Outcome</th>\n",
       "    </tr>\n",
       "  </thead>\n",
       "  <tbody>\n",
       "    <tr>\n",
       "      <th>0</th>\n",
       "      <td>6</td>\n",
       "      <td>148</td>\n",
       "      <td>72</td>\n",
       "      <td>35</td>\n",
       "      <td>0</td>\n",
       "      <td>33.6</td>\n",
       "      <td>0.627</td>\n",
       "      <td>50</td>\n",
       "      <td>1</td>\n",
       "    </tr>\n",
       "    <tr>\n",
       "      <th>1</th>\n",
       "      <td>1</td>\n",
       "      <td>85</td>\n",
       "      <td>66</td>\n",
       "      <td>29</td>\n",
       "      <td>0</td>\n",
       "      <td>26.6</td>\n",
       "      <td>0.351</td>\n",
       "      <td>31</td>\n",
       "      <td>0</td>\n",
       "    </tr>\n",
       "    <tr>\n",
       "      <th>2</th>\n",
       "      <td>8</td>\n",
       "      <td>183</td>\n",
       "      <td>64</td>\n",
       "      <td>0</td>\n",
       "      <td>0</td>\n",
       "      <td>23.3</td>\n",
       "      <td>0.672</td>\n",
       "      <td>32</td>\n",
       "      <td>1</td>\n",
       "    </tr>\n",
       "    <tr>\n",
       "      <th>3</th>\n",
       "      <td>1</td>\n",
       "      <td>89</td>\n",
       "      <td>66</td>\n",
       "      <td>23</td>\n",
       "      <td>94</td>\n",
       "      <td>28.1</td>\n",
       "      <td>0.167</td>\n",
       "      <td>21</td>\n",
       "      <td>0</td>\n",
       "    </tr>\n",
       "    <tr>\n",
       "      <th>4</th>\n",
       "      <td>0</td>\n",
       "      <td>137</td>\n",
       "      <td>40</td>\n",
       "      <td>35</td>\n",
       "      <td>168</td>\n",
       "      <td>43.1</td>\n",
       "      <td>2.288</td>\n",
       "      <td>33</td>\n",
       "      <td>1</td>\n",
       "    </tr>\n",
       "  </tbody>\n",
       "</table>\n",
       "</div>"
      ],
      "text/plain": [
       "   Pregnancies  Glucose  BloodPressure  SkinThickness  Insulin   BMI  \\\n",
       "0            6      148             72             35        0  33.6   \n",
       "1            1       85             66             29        0  26.6   \n",
       "2            8      183             64              0        0  23.3   \n",
       "3            1       89             66             23       94  28.1   \n",
       "4            0      137             40             35      168  43.1   \n",
       "\n",
       "   DiabetesPedigreeFunction  Age  Outcome  \n",
       "0                     0.627   50        1  \n",
       "1                     0.351   31        0  \n",
       "2                     0.672   32        1  \n",
       "3                     0.167   21        0  \n",
       "4                     2.288   33        1  "
      ]
     },
     "execution_count": 18,
     "metadata": {},
     "output_type": "execute_result"
    }
   ],
   "source": [
    "df2 = pd.read_csv('data/diabetes.csv')\n",
    "\n",
    "df2.head()"
   ]
  },
  {
   "cell_type": "code",
   "execution_count": 19,
   "metadata": {},
   "outputs": [
    {
     "data": {
      "text/plain": [
       "Pregnancies                 0\n",
       "Glucose                     0\n",
       "BloodPressure               0\n",
       "SkinThickness               0\n",
       "Insulin                     0\n",
       "BMI                         0\n",
       "DiabetesPedigreeFunction    0\n",
       "Age                         0\n",
       "Outcome                     0\n",
       "dtype: int64"
      ]
     },
     "execution_count": 19,
     "metadata": {},
     "output_type": "execute_result"
    }
   ],
   "source": [
    "# Cek kolom null\n",
    "df2.isnull().sum()"
   ]
  },
  {
   "cell_type": "code",
   "execution_count": 21,
   "metadata": {},
   "outputs": [],
   "source": [
    "from sklearn.impute import SimpleImputer\n",
    "\n",
    "# Melakukakan imputasi kolom yang memiliki data sama dengan 0\n",
    "feature_columns = ['Pregnancies', 'Glucose', 'BloodPressure', 'SkinThickness', 'Insulin', 'BMI', 'DiabetesPedigreeFunction', 'Age']\n",
    "\n",
    "fill_values = SimpleImputer(missing_values=0, strategy=\"mean\", copy=False)\n",
    "\n",
    "df2[feature_columns] = fill_values.fit_transform(df2[feature_columns])"
   ]
  },
  {
   "cell_type": "code",
   "execution_count": 22,
   "metadata": {},
   "outputs": [],
   "source": [
    "X = df2[feature_columns]\n",
    "y = df2.Outcome\n",
    "\n",
    "X_train, X_test, y_train, y_test = train_test_split(X, y, test_size=0.3, random_state=42)"
   ]
  },
  {
   "cell_type": "markdown",
   "metadata": {},
   "source": [
    "### Logistic Regression"
   ]
  },
  {
   "cell_type": "code",
   "execution_count": 23,
   "metadata": {},
   "outputs": [],
   "source": [
    "from sklearn.preprocessing import StandardScaler\n",
    "\n",
    "sc = StandardScaler()\n",
    "\n",
    "# Standarisasi pada fitur di X_train dan X_test\n",
    "X_train_std = sc.fit_transform(X_train)\n",
    "X_test_std = sc.transform(X_test)"
   ]
  },
  {
   "cell_type": "code",
   "execution_count": 25,
   "metadata": {},
   "outputs": [
    {
     "name": "stdout",
     "output_type": "stream",
     "text": [
      "Accuracy         : 73.59 %\n",
      "Test set accuracy: 0.74\n",
      "Test set accuracy: 0.7359307359307359\n"
     ]
    }
   ],
   "source": [
    "from sklearn.linear_model import LogisticRegression\n",
    "\n",
    "lr = LogisticRegression(solver='liblinear')\n",
    "\n",
    "param_grid = {\n",
    "    'C': [0.001, 0.01, 0.1, 1, 10],\n",
    "    'penalty': ['l1', 'l2'],\n",
    "    'max_iter': [100, 500, 1000]\n",
    "}\n",
    "\n",
    "# Penyetelan hyperparameter menggunakan grid search\n",
    "grid_search_lr = GridSearchCV(estimator=lr, param_grid=param_grid, cv=5, scoring='accuracy')\n",
    "grid_search_lr.fit(X_train_std, y_train)\n",
    "\n",
    "# Evaluasi LR dengan hyperparameter terbaik\n",
    "best_lr = grid_search_lr.best_estimator_\n",
    "\n",
    "# Predeksi data testing\n",
    "y_pred_lr = best_lr.predict(X_test_std)\n",
    "\n",
    "# Evaluasi akurasi data testing\n",
    "acc_lr = accuracy_score(y_test, y_pred_lr)\n",
    "\n",
    "# Print hasil evaluasi\n",
    "print(\"Accuracy         : {} %\".format(round((acc_lr*100),2)))\n",
    "print(\"Test set accuracy: {:.2f}\".format(acc_lr))\n",
    "print(f\"Test set accuracy: {acc_lr}\")"
   ]
  },
  {
   "cell_type": "markdown",
   "metadata": {},
   "source": [
    "### SVM Polynominal"
   ]
  },
  {
   "cell_type": "code",
   "execution_count": 28,
   "metadata": {},
   "outputs": [
    {
     "name": "stdout",
     "output_type": "stream",
     "text": [
      "Accuracy         : 74.46 %\n",
      "Test set accuracy: 0.74\n",
      "Test set accuracy: 0.7445887445887446\n"
     ]
    }
   ],
   "source": [
    "from sklearn.svm import SVC \n",
    "from sklearn.ensemble import VotingClassifier\n",
    "\n",
    "svm_poly = SVC(kernel='poly')\n",
    "\n",
    "param_grid = {\n",
    "    'C': [0.1, 1, 10],\n",
    "    'degree': [2, 3, 4],\n",
    "    'coef0': [0.0, 1.0, 2.0],\n",
    "    'gamma': ['scale', 'auto']\n",
    "}\n",
    "\n",
    "# Penyetelan hyperparameter menggunakan grid search\n",
    "grid_search_svm_poly = GridSearchCV(estimator=svm_poly, param_grid=param_grid, cv=5, scoring='accuracy')\n",
    "grid_search_svm_poly.fit(X_train_std, y_train)\n",
    "\n",
    "# Evaluasi svm polynomial dengan hyperparameter terbaik\n",
    "best_svm_poly = grid_search_svm_poly.best_estimator_\n",
    "\n",
    "# Predeksi data testing\n",
    "y_pred_svm_poly = best_svm_poly.predict(X_test_std)\n",
    "\n",
    "# Evaluasi akurasi data testing\n",
    "acc_svm_poly = accuracy_score(y_test, y_pred_svm_poly)\n",
    "\n",
    "# Print hasil evaluasi\n",
    "print(\"Accuracy         : {} %\".format(round((acc_svm_poly*100),2)))\n",
    "print(\"Test set accuracy: {:.2f}\".format(acc_svm_poly))\n",
    "print(f\"Test set accuracy: {acc_svm_poly}\")"
   ]
  },
  {
   "cell_type": "markdown",
   "metadata": {},
   "source": [
    "### Decision Tree"
   ]
  },
  {
   "cell_type": "code",
   "execution_count": 29,
   "metadata": {},
   "outputs": [
    {
     "name": "stdout",
     "output_type": "stream",
     "text": [
      "Fitting 5 folds for each of 36 candidates, totalling 180 fits\n",
      "Accuracy         : 74.03 %\n",
      "Test set accuracy: 0.74\n",
      "Test set accuracy: 0.7402597402597403\n"
     ]
    }
   ],
   "source": [
    "dt = DecisionTreeClassifier()\n",
    "\n",
    "params = {'max_depth': [None, 10, 20, 30],\n",
    "          'min_samples_split': [2, 5, 10],\n",
    "          'min_samples_leaf': [1, 2, 4]}\n",
    "\n",
    "GS = GridSearchCV(estimator=dt,param_grid=params,cv=5,n_jobs=-1, verbose=True, scoring='accuracy')\n",
    "\n",
    "# Training/fit\n",
    "GS.fit(X_train_std, y_train)\n",
    "\n",
    "# Mengambil model Decision Tree terbaik yang telah dihasilkan oleh proses Grid Search.\n",
    "best_dtree = GS.best_estimator_\n",
    "\n",
    "# Memprediksi label set test\n",
    "y_pred_dt = best_dtree.predict(X_test_std)\n",
    "\n",
    "# Menghitung set accuracy\n",
    "acc_dt = accuracy_score(y_test, y_pred_dt)\n",
    "print(\"Accuracy         : {} %\".format(round((acc_dt*100),2)))\n",
    "print(\"Test set accuracy: {:.2f}\".format(acc_dt))\n",
    "print(f\"Test set accuracy: {acc_dt}\")"
   ]
  },
  {
   "cell_type": "markdown",
   "metadata": {},
   "source": [
    "### Voting"
   ]
  },
  {
   "cell_type": "code",
   "execution_count": 30,
   "metadata": {},
   "outputs": [
    {
     "name": "stdout",
     "output_type": "stream",
     "text": [
      "Voting Hard\n",
      "Test set accuracy: 0.75\n",
      "Test set accuracy: 0.7489177489177489\n"
     ]
    }
   ],
   "source": [
    "# Definisikan algoritma yang akan digunakan untuk voting\n",
    "clf1 = best_lr\n",
    "clf2 = best_svm_poly\n",
    "clf3 = best_dtree\n",
    "\n",
    "# Model hard voting\n",
    "voting = VotingClassifier(estimators=[('logistic_reg', clf1), ('SVM-POLY', clf2), ('decission_tree', clf3)], voting='hard')\n",
    "\n",
    "# Fit model\n",
    "voting.fit(X_train_std, y_train)\n",
    "\n",
    "# Prediksi\n",
    "y_pred_vt1 = voting.predict(X_test_std)\n",
    "\n",
    "# Evaluasi akurasi testing data\n",
    "acc_vt1 = accuracy_score(y_test, y_pred_vt1)\n",
    "\n",
    "# Print hasil evaluasi\n",
    "print('Voting Hard')\n",
    "print(\"Test set accuracy: {:.2f}\".format(acc_vt1))\n",
    "print(f\"Test set accuracy: {acc_vt1}\")"
   ]
  },
  {
   "cell_type": "code",
   "execution_count": null,
   "metadata": {},
   "outputs": [],
   "source": []
  }
 ],
 "metadata": {
  "kernelspec": {
   "display_name": "Python 3",
   "language": "python",
   "name": "python3"
  },
  "language_info": {
   "codemirror_mode": {
    "name": "ipython",
    "version": 3
   },
   "file_extension": ".py",
   "mimetype": "text/x-python",
   "name": "python",
   "nbconvert_exporter": "python",
   "pygments_lexer": "ipython3",
   "version": "3.8.8"
  }
 },
 "nbformat": 4,
 "nbformat_minor": 2
}
